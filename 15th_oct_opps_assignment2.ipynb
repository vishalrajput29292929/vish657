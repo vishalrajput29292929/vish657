{
 "cells": [
  {
   "cell_type": "code",
   "execution_count": 10,
   "id": "0646fb15-02d4-449e-9825-e0265bbc478f",
   "metadata": {},
   "outputs": [],
   "source": [
    "#1. What is inheritance in Python? Explain its significance in object-oriented programming."
   ]
  },
  {
   "cell_type": "code",
   "execution_count": null,
   "id": "0d7a1253-1710-443f-a67d-2ae632928c1f",
   "metadata": {},
   "outputs": [],
   "source": []
  },
  {
   "cell_type": "code",
   "execution_count": 11,
   "id": "3bd44220-c8d4-41b8-9fcc-2d220cb2afbd",
   "metadata": {},
   "outputs": [
    {
     "data": {
      "text/plain": [
       "'inheritance is nothing but a technique to access attribute of parents class from child . its helps in multi class elaboration'"
      ]
     },
     "execution_count": 11,
     "metadata": {},
     "output_type": "execute_result"
    }
   ],
   "source": [
    "'''inheritance is nothing but a technique to access attribute of parents class from child . its helps in multi class elaboration'''"
   ]
  },
  {
   "cell_type": "code",
   "execution_count": 12,
   "id": "5e8da7cc-570f-4917-8b59-a79eec0a38f7",
   "metadata": {},
   "outputs": [],
   "source": [
    "#2. Differentiate between single inheritance and multiple inheritance in Python. Provide examples for each."
   ]
  },
  {
   "cell_type": "code",
   "execution_count": 13,
   "id": "48a2cfb1-8d43-4795-a127-c48ac2437d23",
   "metadata": {},
   "outputs": [
    {
     "data": {
      "text/plain": [
       "'single inheritance - single inheritance contain one argument of parent class.\\nmultiple inheritance - multiple inhetance contain multiple argument from different parent class'"
      ]
     },
     "execution_count": 13,
     "metadata": {},
     "output_type": "execute_result"
    }
   ],
   "source": [
    "'''single inheritance - single inheritance contain one argument of parent class.\n",
    "multiple inheritance - multiple inhetance contain multiple argument from different parent class'''"
   ]
  },
  {
   "cell_type": "code",
   "execution_count": 15,
   "id": "4db6c464-b1a0-475a-b97d-744f5cb46dcb",
   "metadata": {},
   "outputs": [
    {
     "name": "stdout",
     "output_type": "stream",
     "text": [
      "the speed of vehicle is 500km/h\n"
     ]
    }
   ],
   "source": [
    "\n",
    "class vehicle:\n",
    "    def color(self):\n",
    "        print(\"the color of vehicle is red\")\n",
    "        \n",
    "    def speed(self):\n",
    "        print(\"the speed of vehicle is 500km/h\")\n",
    "        \n",
    "class car(vehicle):\n",
    "    def brand(self):\n",
    "        print(\"the brand available OD,BMW\")\n",
    "        \n",
    "    \n",
    "f1 = car()\n",
    "f1.speed()\n"
   ]
  },
  {
   "cell_type": "code",
   "execution_count": 16,
   "id": "779583bf-0a6d-4a48-95da-fe5f9a84c443",
   "metadata": {},
   "outputs": [
    {
     "name": "stdout",
     "output_type": "stream",
     "text": [
      "this class will give you student detail\n"
     ]
    }
   ],
   "source": [
    "\n",
    "class lecture:\n",
    "    def topic(self):\n",
    "        print(\"todays class we are discuss about inheritance\")\n",
    "        \n",
    "    def timing(self):\n",
    "        print(\"timing for today class is 9AM IST\")\n",
    "        \n",
    "    def end_time(self):\n",
    "        print(\"today ill try to end class early\")\n",
    "        \n",
    "    \n",
    "class student:\n",
    "    \n",
    "    def student_details(self):\n",
    "        print(\"this class will give you student detail\")\n",
    "        \n",
    "    def timing(self):\n",
    "        print(\"this is timing fuction from student class\")\n",
    "        \n",
    "class teacher(student,lecture):                   # multiple inheritance\n",
    "    def details(self):\n",
    "        print(\"this will give you details about teacher\")\n",
    "ss = teacher()\n",
    "ss.student_details()\n"
   ]
  },
  {
   "cell_type": "code",
   "execution_count": null,
   "id": "2c2060b6-88d6-45f2-977c-5ed66c27c1ad",
   "metadata": {},
   "outputs": [],
   "source": []
  },
  {
   "cell_type": "code",
   "execution_count": 9,
   "id": "73ce1c1f-f719-4d9e-b7cd-56adcb5f50c8",
   "metadata": {},
   "outputs": [],
   "source": [
    "#3. Create a Python class called `Vehicle` with attributes `color` and `speed`. Then, create a child class called`Car` that inherits from `Vehicle` and adds a `brand` attribute. Provide an example of creating a `Car` object."
   ]
  },
  {
   "cell_type": "code",
   "execution_count": 2,
   "id": "81597f5a-5887-4824-8171-3cb548294133",
   "metadata": {},
   "outputs": [],
   "source": [
    "class vehicle:\n",
    "    def color(self):\n",
    "        print(\"the color of vehicle is red\")\n",
    "        \n",
    "    def speed(self):\n",
    "        print(\"the speed of vehicle is 500km/h\")\n",
    "        \n",
    "class car(vehicle):\n",
    "    def brand(self):\n",
    "        print(\"the brand available OD,BMW\")\n",
    "        \n",
    "    "
   ]
  },
  {
   "cell_type": "code",
   "execution_count": 4,
   "id": "c3ce7882-ca86-4719-87f2-5932dd25895d",
   "metadata": {},
   "outputs": [],
   "source": [
    "f1 = car()"
   ]
  },
  {
   "cell_type": "code",
   "execution_count": 5,
   "id": "c35c0569-fac0-4058-90e9-9c1dfcc898ae",
   "metadata": {},
   "outputs": [
    {
     "name": "stdout",
     "output_type": "stream",
     "text": [
      "the speed of vehicle is 500km/h\n"
     ]
    }
   ],
   "source": [
    "f1.speed()"
   ]
  },
  {
   "cell_type": "code",
   "execution_count": 17,
   "id": "988fe206-a4ae-402f-92ef-082ed31271b8",
   "metadata": {},
   "outputs": [],
   "source": [
    "#4. Explain the concept of method overriding in inheritance. Provide a practical example."
   ]
  },
  {
   "cell_type": "code",
   "execution_count": 18,
   "id": "a736d9b9-d19c-41ea-b870-c54f679a7f95",
   "metadata": {},
   "outputs": [
    {
     "data": {
      "text/plain": [
       "'allows you to redefine a method in a subclass or the derived class previously defined in its parent or the superclass'"
      ]
     },
     "execution_count": 18,
     "metadata": {},
     "output_type": "execute_result"
    }
   ],
   "source": [
    "'''allows you to redefine a method in a subclass or the derived class previously defined in its parent or the superclass'''"
   ]
  },
  {
   "cell_type": "code",
   "execution_count": 19,
   "id": "b8dc3a40-0a99-4439-903c-7701e9c0b1a1",
   "metadata": {},
   "outputs": [
    {
     "name": "stdout",
     "output_type": "stream",
     "text": [
      "this is timing fuction from student class\n"
     ]
    }
   ],
   "source": [
    "class student:\n",
    "    \n",
    "    def student_details(self):\n",
    "        print(\"this class will give you student detail\")\n",
    "        \n",
    "    def timing(self):\n",
    "        print(\"this is timing fuction from student class\")\n",
    "class teacher(student):                     \n",
    "    def details(self):\n",
    "        print(\"this will give you details about teacher\")\n",
    "sudh = teacher()\n",
    "sudh.timing()\n"
   ]
  },
  {
   "cell_type": "code",
   "execution_count": 6,
   "id": "d2070bd8-9bd0-4177-b717-2f5342640650",
   "metadata": {},
   "outputs": [],
   "source": [
    "#5. How can you access the methods and attributes of a parent class from a child class in Python? Give anexample."
   ]
  },
  {
   "cell_type": "code",
   "execution_count": 7,
   "id": "571da3cb-22c7-46e1-ab23-cbaeead818d0",
   "metadata": {},
   "outputs": [],
   "source": [
    "class lecture:\n",
    "    def topic(self):\n",
    "        print(\"todays class we are discuss about inheritance\")\n",
    "        \n",
    "    def timing(self):\n",
    "        print(\"timing for today class is 9AM IST\")\n",
    "        \n",
    "    def end_time(self):\n",
    "        print(\"today ill try to end class early\")"
   ]
  },
  {
   "cell_type": "code",
   "execution_count": 8,
   "id": "9416890e-cafb-41e9-a957-1ffe0cbbb808",
   "metadata": {},
   "outputs": [
    {
     "name": "stdout",
     "output_type": "stream",
     "text": [
      "todays class we are discuss about inheritance\n"
     ]
    }
   ],
   "source": [
    "\n",
    "class student(lecture):\n",
    "    \n",
    "    def student_details(self):\n",
    "        print(\"this class will give you student detail\")\n",
    "        \n",
    "vishal = student()\n",
    "vishal.topic()\n"
   ]
  },
  {
   "cell_type": "code",
   "execution_count": 20,
   "id": "382acd72-2995-4db7-852b-6d6fff6488d6",
   "metadata": {},
   "outputs": [],
   "source": [
    "#6. Discuss the use of the `super()` function in Python inheritance. When and why is it used? Provide an example."
   ]
  },
  {
   "cell_type": "code",
   "execution_count": 21,
   "id": "bbc77a9e-5f5a-4cf6-af8d-938e626682f4",
   "metadata": {},
   "outputs": [
    {
     "data": {
      "text/plain": [
       "'super funtion is used for calling the attribute of different parent class it is used in place of self '"
      ]
     },
     "execution_count": 21,
     "metadata": {},
     "output_type": "execute_result"
    }
   ],
   "source": [
    "'''super funtion is used for calling the attribute of different parent class it is used in place of self '''"
   ]
  },
  {
   "cell_type": "code",
   "execution_count": 22,
   "id": "48a851ab-945b-4d86-8f88-2a8d0cf5c4fb",
   "metadata": {},
   "outputs": [
    {
     "name": "stdout",
     "output_type": "stream",
     "text": [
      "vish\n",
      "vish vish@gmail.com\n",
      "vish\n"
     ]
    }
   ],
   "source": [
    "\n",
    "class pwskills:\n",
    "    \n",
    "    def __init__(self,mentor):\n",
    "        self.mentor = mentor\n",
    "        \n",
    "    def mentor_name(self):\n",
    "        print(self.mentor)\n",
    "        \n",
    "class datascience(pwskills):\n",
    "    def __init__(self,mentor,mentor_mail_id):\n",
    "        super().__init__(mentor)     #reinitialise the privious class variable\n",
    "        self.mentor_mail_id = mentor_mail_id\n",
    "        \n",
    "    def show_info(self):\n",
    "        self.mentor_name()\n",
    "        print(self.mentor,self.mentor_mail_id)\n",
    "python_basic = datascience('vish','vish@gmail.com')\n",
    "python_basic.show_info()\n",
    "\n",
    "\n",
    "\n",
    "\n",
    "\n",
    "\n",
    "\n",
    "python_basic.mentor_name()"
   ]
  },
  {
   "cell_type": "code",
   "execution_count": 23,
   "id": "d7a64b90-15ae-4e0c-adfc-51af65689250",
   "metadata": {},
   "outputs": [],
   "source": [
    "#7. Create a Python class called `Animal` with a method `speak()`. Then, create child classes `Dog` and `Cat` that inherit from `Animal` and override the `speak()` method. Provide an example of using these classes."
   ]
  },
  {
   "cell_type": "code",
   "execution_count": 25,
   "id": "056578f4-4098-4a59-9611-fe05a076de13",
   "metadata": {},
   "outputs": [],
   "source": [
    "class animal:\n",
    "    def speak(self):\n",
    "        print(\"this animal speaks laoud\")\n",
    "        \n",
    "class dog(animal):\n",
    "    def type_of_dog(self):\n",
    "        print(\"the color of dog is lebra\")\n",
    "        \n",
    "class cat(dog,animal):\n",
    "    def color(self):\n",
    "        print(\"the color of cat is black\")\n",
    "    "
   ]
  },
  {
   "cell_type": "code",
   "execution_count": 27,
   "id": "b4c92604-8384-41cc-b3ba-7a010e12201f",
   "metadata": {},
   "outputs": [],
   "source": [
    "s = cat()"
   ]
  },
  {
   "cell_type": "code",
   "execution_count": 28,
   "id": "67e1c964-f095-4f71-8f04-cc6051163326",
   "metadata": {},
   "outputs": [
    {
     "name": "stdout",
     "output_type": "stream",
     "text": [
      "this animal speaks laoud\n"
     ]
    }
   ],
   "source": [
    "s.speak()"
   ]
  },
  {
   "cell_type": "code",
   "execution_count": 29,
   "id": "b84d8714-7196-47d7-a30e-24a97ee043dd",
   "metadata": {},
   "outputs": [],
   "source": [
    "#8. Explain the role of the `isinstance()` function in Python and how it relates to inheritance."
   ]
  },
  {
   "cell_type": "code",
   "execution_count": 31,
   "id": "3bcc1ba6-4436-4481-9c6d-1271749681d4",
   "metadata": {},
   "outputs": [
    {
     "data": {
      "text/plain": [
       "'The isinstance () function checks whether an object is an instance of the class mentioned. One can test if an object or variable is an instance of the type or class. If inheritance is present in the program, then the function can be used to check if a specified class is the parent class of an object.'"
      ]
     },
     "execution_count": 31,
     "metadata": {},
     "output_type": "execute_result"
    }
   ],
   "source": [
    "\"\"\"The isinstance () function checks whether an object is an instance of the class mentioned. One can test if an object or variable is an instance of the type or class. If inheritance is present in the program, then the function can be used to check if a specified class is the parent class of an object.\"\"\""
   ]
  },
  {
   "cell_type": "code",
   "execution_count": 32,
   "id": "ca6e5908-e42b-4196-9e3a-59352084a0d4",
   "metadata": {},
   "outputs": [],
   "source": [
    "#9. What is the purpose of the `issubclass()` function in Python? Provide an example."
   ]
  },
  {
   "cell_type": "code",
   "execution_count": 33,
   "id": "19b3d648-7f86-4371-926f-09a14003d870",
   "metadata": {},
   "outputs": [
    {
     "data": {
      "text/plain": [
       "'to check if a class is a subclass of another class or not.'"
      ]
     },
     "execution_count": 33,
     "metadata": {},
     "output_type": "execute_result"
    }
   ],
   "source": [
    "\"\"\"to check if a class is a subclass of another class or not.\"\"\""
   ]
  },
  {
   "cell_type": "code",
   "execution_count": 34,
   "id": "297900ac-217b-4b52-9847-3b0672c140c4",
   "metadata": {},
   "outputs": [],
   "source": [
    "class myAge:\n",
    "  age = 36\n",
    "\n",
    "class myObj(myAge):\n",
    "  name = \"John\"\n",
    "  age = myAge\n",
    "\n",
    "x = issubclass(myObj, myAge)\n"
   ]
  },
  {
   "cell_type": "code",
   "execution_count": 35,
   "id": "b56570e9-fe55-4bc2-a712-b959018d8ecc",
   "metadata": {},
   "outputs": [
    {
     "name": "stdout",
     "output_type": "stream",
     "text": [
      "True\n"
     ]
    }
   ],
   "source": [
    "print(x)"
   ]
  },
  {
   "cell_type": "code",
   "execution_count": 36,
   "id": "8e869747-5fce-45e6-86a2-69bdb3a8decc",
   "metadata": {},
   "outputs": [],
   "source": [
    "#10. Discuss the concept of constructor inheritance in Python. How are constructors inherited in child classes?"
   ]
  },
  {
   "cell_type": "code",
   "execution_count": 1,
   "id": "3d8793e3-d729-48bc-9fa2-161b42155c6d",
   "metadata": {},
   "outputs": [
    {
     "data": {
      "text/plain": [
       "'constructor is nothing but a doodler function used to assingning the values.'"
      ]
     },
     "execution_count": 1,
     "metadata": {},
     "output_type": "execute_result"
    }
   ],
   "source": [
    "\"\"\"constructor is nothing but a doodler function used to assingning the values.\"\"\""
   ]
  },
  {
   "cell_type": "code",
   "execution_count": 39,
   "id": "abbd9ed5-991f-4518-98f8-492b8020958e",
   "metadata": {},
   "outputs": [],
   "source": [
    "#11. Create a Python class called `Shape` with a method `area()` that calculates the area of a shape. Then, create child classes `Circle` and `Rectangle` that inherit from `Shape` and implement the `area()` methodaccordingly. Provide an example."
   ]
  },
  {
   "cell_type": "code",
   "execution_count": 110,
   "id": "c3a6e45a-8b37-4d39-80dd-f2be722d9e3d",
   "metadata": {},
   "outputs": [],
   "source": [
    "class shape:\n",
    "    def area(self,w,h):\n",
    "        area = w*h\n",
    "        print(\"the area of shape\", area)\n",
    "    \n",
    "\n",
    "class circle(shape):\n",
    "    def area_of_circle(self,r):\n",
    "        area1 = 3.14*r**2\n",
    "        print(\"the area of circle is\",area1)\n",
    "        \n",
    "class rectangle(circle):\n",
    "    def area_of_rectangle(w,h):\n",
    "        area = w*h\n",
    "        print(\"the area of shape\", area)\n",
    "    \n",
    "        "
   ]
  },
  {
   "cell_type": "code",
   "execution_count": 114,
   "id": "c5053648-2e8b-4cb4-b620-fcf2e22674c0",
   "metadata": {},
   "outputs": [],
   "source": [
    "a = rectangle()\n"
   ]
  },
  {
   "cell_type": "code",
   "execution_count": 117,
   "id": "ff138a58-94e1-4d32-b143-58572d6b7379",
   "metadata": {},
   "outputs": [
    {
     "name": "stdout",
     "output_type": "stream",
     "text": [
      "the area of shape 2\n"
     ]
    }
   ],
   "source": [
    "a.area(1,2)\n"
   ]
  },
  {
   "cell_type": "code",
   "execution_count": 116,
   "id": "7d99753e-5bdd-489b-b27b-9d7707bc2859",
   "metadata": {},
   "outputs": [],
   "source": [
    "#12. Explain the use of abstract base classes (ABCs) in Python and how they relate to inheritance. Provide anexample using the `abc` module."
   ]
  },
  {
   "cell_type": "code",
   "execution_count": 19,
   "id": "355e55f6-5c4c-41e6-a2f7-92434e4c8e17",
   "metadata": {},
   "outputs": [
    {
     "data": {
      "text/plain": [
       "'A class is called an Abstract class if it contains one or more abstract methods. An abstract method is a method that is declared, but contains no implementation. Abstract classes may not be instantiated, and its abstract methods must be implemented by its subclasses.'"
      ]
     },
     "execution_count": 19,
     "metadata": {},
     "output_type": "execute_result"
    }
   ],
   "source": [
    "'''A class is called an Abstract class if it contains one or more abstract methods. An abstract method is a method that is declared, but contains no implementation. Abstract classes may not be instantiated, and its abstract methods must be implemented by its subclasses.'''"
   ]
  },
  {
   "cell_type": "code",
   "execution_count": 20,
   "id": "0308f041-414c-46a6-9151-4351f5a1b78d",
   "metadata": {},
   "outputs": [],
   "source": [
    "#13. How can you prevent a child class from modifying certain attributes or methods inherited from a parentclass in Python?"
   ]
  },
  {
   "cell_type": "code",
   "execution_count": 21,
   "id": "5e4f4a71-f066-48dc-a08d-e1c595c0e27b",
   "metadata": {},
   "outputs": [
    {
     "data": {
      "text/plain": [
       "'by making the attribute of class private'"
      ]
     },
     "execution_count": 21,
     "metadata": {},
     "output_type": "execute_result"
    }
   ],
   "source": [
    "'''by making the attribute of class private'''"
   ]
  },
  {
   "cell_type": "code",
   "execution_count": 38,
   "id": "aa7d5615-6775-42f2-acc9-5b1aa5c81ea4",
   "metadata": {},
   "outputs": [],
   "source": [
    "#14. Create a Python class called `Employee` with attributes `name` and `salary`. Then, create a child class`Manager` that inherits from `Employee` and adds an attribute `department`. Provide an example."
   ]
  },
  {
   "cell_type": "code",
   "execution_count": 39,
   "id": "c0e6609f-a90b-4816-bd83-f90a8d0ca996",
   "metadata": {},
   "outputs": [],
   "source": [
    "class employee:\n",
    "    def __init__(self,name,salary):\n",
    "        self.name = name \n",
    "        self.salary = salary\n",
    "        \n",
    "    def name_of_employee(self):\n",
    "        print(\"the name of employee is\",self.name)\n",
    "        \n",
    "    def salary_of_employee(self):\n",
    "        print(\"the salary of employee is \", self.salary)\n",
    "        \n",
    "class manager(employee):\n",
    "    def department(self):\n",
    "        print(\"department is cse\")"
   ]
  },
  {
   "cell_type": "code",
   "execution_count": 40,
   "id": "07d5fe29-9e89-405e-b0ba-289e031fd23b",
   "metadata": {},
   "outputs": [],
   "source": [
    "b = manager(\"vishal\",5000)"
   ]
  },
  {
   "cell_type": "code",
   "execution_count": 41,
   "id": "4faa3b39-99c0-4689-976f-ca6bbc632822",
   "metadata": {},
   "outputs": [
    {
     "name": "stdout",
     "output_type": "stream",
     "text": [
      "the name of employee is vishal\n"
     ]
    }
   ],
   "source": [
    "b.name_of_employee()"
   ]
  },
  {
   "cell_type": "code",
   "execution_count": 42,
   "id": "06e6d8ea-1460-48c5-9600-24accb9e630f",
   "metadata": {},
   "outputs": [
    {
     "name": "stdout",
     "output_type": "stream",
     "text": [
      "the salary of employee is  5000\n"
     ]
    }
   ],
   "source": [
    "b.salary_of_employee()"
   ]
  },
  {
   "cell_type": "code",
   "execution_count": 43,
   "id": "dce1fe63-70b0-415a-88bf-50dbe689650c",
   "metadata": {},
   "outputs": [],
   "source": [
    "#15. Discuss the concept of method overloading in Python inheritance. How does it differ from method overriding?"
   ]
  },
  {
   "cell_type": "code",
   "execution_count": 44,
   "id": "69f492cb-7cf6-4e8b-8ca1-b7323e279212",
   "metadata": {},
   "outputs": [
    {
     "data": {
      "text/plain": [
       "' In the process of method overloading, all the functions or methods must contain the same name with varied signatures'"
      ]
     },
     "execution_count": 44,
     "metadata": {},
     "output_type": "execute_result"
    }
   ],
   "source": [
    "\"\"\" In the process of method overloading, all the functions or methods must contain the same name with varied signatures\"\"\""
   ]
  },
  {
   "cell_type": "code",
   "execution_count": 45,
   "id": "7515dabd-2811-4ac4-a296-46583c32ecf2",
   "metadata": {},
   "outputs": [],
   "source": [
    "#16. Explain the purpose of the `__init__()` method in Python inheritance and how it is utilized in child classes."
   ]
  },
  {
   "cell_type": "code",
   "execution_count": 46,
   "id": "8f088484-e68b-454f-ad34-86cd6b7fa971",
   "metadata": {},
   "outputs": [
    {
     "data": {
      "text/plain": [
       "\" The __init__ method lets the class initialize the object's attributes and serves no other purpose\""
      ]
     },
     "execution_count": 46,
     "metadata": {},
     "output_type": "execute_result"
    }
   ],
   "source": [
    "\"\"\" The __init__ method lets the class initialize the object's attributes and serves no other purpose\"\"\""
   ]
  },
  {
   "cell_type": "code",
   "execution_count": null,
   "id": "3ef7f6d9-211b-4f25-9e1d-3681bf530e5a",
   "metadata": {},
   "outputs": [],
   "source": [
    "#17. Create a Python class called `Bird` with a method `fly()`. Then, create child classes `Eagle` and `Sparrow` that\n",
    "inherit from `Bird` and implement the `fly()` method differently. Provide an example of using these\n",
    "classes."
   ]
  },
  {
   "cell_type": "code",
   "execution_count": 48,
   "id": "ee8d1037-4d6c-40e7-a56b-e0287c10582a",
   "metadata": {},
   "outputs": [],
   "source": [
    "class bird:\n",
    "    def fly(self):\n",
    "        print(\"the bird not fly high\")\n",
    "        \n",
    "class eagle(bird):\n",
    "    def color_of_eagle(self):\n",
    "        print(\"color is brown\")\n",
    "        \n",
    "class sparrow(eagle):\n",
    "    def color_of_sparrow(self):\n",
    "        print(\"color is white\")"
   ]
  },
  {
   "cell_type": "code",
   "execution_count": 49,
   "id": "6460257e-b8d2-49d4-90bd-c05b4b7693c2",
   "metadata": {},
   "outputs": [],
   "source": [
    "obj= sparrow()"
   ]
  },
  {
   "cell_type": "code",
   "execution_count": 51,
   "id": "556ce400-f7d4-4dfb-b1af-5e98170ac373",
   "metadata": {},
   "outputs": [
    {
     "name": "stdout",
     "output_type": "stream",
     "text": [
      "the bird not fly high\n"
     ]
    }
   ],
   "source": [
    "obj.fly()"
   ]
  },
  {
   "cell_type": "code",
   "execution_count": 52,
   "id": "2561dc7a-7296-4af5-8384-4a51d5bc4665",
   "metadata": {},
   "outputs": [],
   "source": [
    "#18. What is the \"diamond problem\" in multiple inheritance, and how does Python address it?"
   ]
  },
  {
   "cell_type": "code",
   "execution_count": 53,
   "id": "a4b1a7d1-dba8-466a-a971-1bc21af7beeb",
   "metadata": {},
   "outputs": [
    {
     "data": {
      "text/plain": [
       "'If there is a method “m” which is an overridden method in one of Class2 and Class3 or both then the ambiguity arises which of the method “m” Class4 should inherit'"
      ]
     },
     "execution_count": 53,
     "metadata": {},
     "output_type": "execute_result"
    }
   ],
   "source": [
    "'''If there is a method “m” which is an overridden method in one of Class2 and Class3 or both then the ambiguity arises which of the method “m” Class4 should inherit'''"
   ]
  },
  {
   "cell_type": "code",
   "execution_count": 54,
   "id": "1b8fb0d7-3adb-41ff-ac92-38eb25797044",
   "metadata": {},
   "outputs": [],
   "source": [
    "#19. Discuss the concept of \"is-a\" and \"has-a\" relationships in inheritance, and provide examples of each."
   ]
  },
  {
   "cell_type": "code",
   "execution_count": 55,
   "id": "be2f3f02-5dc9-441c-859b-a169776aaf13",
   "metadata": {},
   "outputs": [
    {
     "data": {
      "text/plain": [
       "'HAS-A relationship is composition. In OOP, IS-A relationship is completely inheritance. This means, that the child class is a type of parent class. For example, an apple is a fruit.'"
      ]
     },
     "execution_count": 55,
     "metadata": {},
     "output_type": "execute_result"
    }
   ],
   "source": [
    "'''HAS-A relationship is composition. In OOP, IS-A relationship is completely inheritance. This means, that the child class is a type of parent class. For example, an apple is a fruit.'''"
   ]
  },
  {
   "cell_type": "code",
   "execution_count": 1,
   "id": "9cace5af-b032-4475-a29d-bfe22fb33f99",
   "metadata": {},
   "outputs": [],
   "source": [
    "#20. Create a Python class hierarchy for a university system. Start with a base class `Person` and create childclasses `Student` and `Professor`, each with their own attributes and methods. Provide an example of usingthese classes in a university context."
   ]
  },
  {
   "cell_type": "code",
   "execution_count": 2,
   "id": "32e4ee93-bef2-4d56-99ae-d27653c1771f",
   "metadata": {},
   "outputs": [],
   "source": [
    "class hierarchy:\n",
    "    \n",
    "    def no_of_person(self):\n",
    "        print(\"number of student in college is 67\")\n",
    "\n",
    "class student(hierarchy):\n",
    "    def no_of_student(self):\n",
    "        print(\"number of student is 6\")\n",
    "        \n",
    "\n",
    "class professor(student):\n",
    "    def no_of_professor(self):\n",
    "        print(\"the no of professor is 897\")\n",
    "\n",
    "\n",
    "\n",
    "            "
   ]
  },
  {
   "cell_type": "code",
   "execution_count": 3,
   "id": "95c4079e-8da6-4ba1-b0ac-74ab99559956",
   "metadata": {},
   "outputs": [],
   "source": [
    "a = professor()"
   ]
  },
  {
   "cell_type": "code",
   "execution_count": 4,
   "id": "73cadc6c-ad53-40cc-a1d9-599c477125e8",
   "metadata": {},
   "outputs": [
    {
     "name": "stdout",
     "output_type": "stream",
     "text": [
      "number of student in college is 67\n"
     ]
    }
   ],
   "source": [
    "a.no_of_person()"
   ]
  },
  {
   "cell_type": "code",
   "execution_count": 5,
   "id": "93939a4f-a795-41c5-b422-9899d4ba9c76",
   "metadata": {},
   "outputs": [],
   "source": [
    "                           #Polymorphism:"
   ]
  },
  {
   "cell_type": "code",
   "execution_count": 6,
   "id": "75b4d3ac-920d-4b35-93a5-2bde3b630676",
   "metadata": {},
   "outputs": [],
   "source": [
    "#1. What is polymorphism in Python? Explain how it is related to object-oriented programming."
   ]
  },
  {
   "cell_type": "code",
   "execution_count": 7,
   "id": "9d342975-2d40-4f52-b9ae-c6eebcab82ad",
   "metadata": {},
   "outputs": [
    {
     "data": {
      "text/plain": [
       "'object is same but the nature of object is different'"
      ]
     },
     "execution_count": 7,
     "metadata": {},
     "output_type": "execute_result"
    }
   ],
   "source": [
    "'''object is same but the nature of object is different'''"
   ]
  },
  {
   "cell_type": "code",
   "execution_count": 8,
   "id": "6e7605cc-cfdc-4259-8907-12be2f501e62",
   "metadata": {},
   "outputs": [],
   "source": [
    "#2. Describe the difference between compile-time polymorphism and runtime polymorphism in Python."
   ]
  },
  {
   "cell_type": "code",
   "execution_count": 9,
   "id": "776188d9-0103-4a89-8eb4-d28bcaaad5d8",
   "metadata": {},
   "outputs": [
    {
     "data": {
      "text/plain": [
       "'Compile-time polymorphism allows us to use many methods with the same name but differing signatures and return types. Method overriding can be used to demonstrate run-time polymorphism. Run-time polymorphism is associated with different classes, but it allows us to use the same method with different signature names.'"
      ]
     },
     "execution_count": 9,
     "metadata": {},
     "output_type": "execute_result"
    }
   ],
   "source": [
    "'''Compile-time polymorphism allows us to use many methods with the same name but differing signatures and return types. Method overriding can be used to demonstrate run-time polymorphism. Run-time polymorphism is associated with different classes, but it allows us to use the same method with different signature names.'''"
   ]
  },
  {
   "cell_type": "code",
   "execution_count": null,
   "id": "06fab75b-968d-4c16-9a3b-294d45b83664",
   "metadata": {},
   "outputs": [],
   "source": [
    "#3. Create a Python class hierarchy for shapes (e.g., circle, square, triangle) and demonstrate polymorphism   through a common method, such as `calculate_area()`."
   ]
  },
  {
   "cell_type": "code",
   "execution_count": 16,
   "id": "ad0c2f03-1b54-4961-a1c5-2ec192298619",
   "metadata": {},
   "outputs": [
    {
     "name": "stdout",
     "output_type": "stream",
     "text": [
      "the area of circle is 3.14\n",
      "the area of shape 1.0\n"
     ]
    }
   ],
   "source": [
    "class hierarchy:\n",
    "    \n",
    "\n",
    "    def cal_area(self,w,h):\n",
    "        \n",
    "        area = w*h\n",
    "        print(\"the area of shape\", area)\n",
    "\n",
    "\n",
    "class circle(hierarchy):\n",
    "    def cal_area(self,r):\n",
    "        area1 = 3.14*r**2\n",
    "        print(\"the area of circle is\",area1)\n",
    "        \n",
    "class triangle(hierarchy):\n",
    "    def cal_area(self,b,h):\n",
    "        area2 = 0.5*b*h\n",
    "        print(\"the area of shape\", area2)\n",
    "    \n",
    "    \n",
    "a1 = circle()\n",
    "a2 = triangle()\n",
    "a1.cal_area(1)\n",
    "a2.cal_area(1,2)"
   ]
  },
  {
   "cell_type": "code",
   "execution_count": 17,
   "id": "81e51fb5-6115-4641-a911-f70d025c2043",
   "metadata": {},
   "outputs": [],
   "source": [
    "#4. Explain the concept of method overriding in polymorphism. Provide an example."
   ]
  },
  {
   "cell_type": "code",
   "execution_count": 18,
   "id": "f44ceeb2-6dab-4e41-92e3-ef4c78308fd2",
   "metadata": {},
   "outputs": [
    {
     "data": {
      "text/plain": [
       "'method overriding states that when same method or function is use from different classes'"
      ]
     },
     "execution_count": 18,
     "metadata": {},
     "output_type": "execute_result"
    }
   ],
   "source": [
    "'''method overriding states that when same method or function is use from different classes'''"
   ]
  },
  {
   "cell_type": "code",
   "execution_count": 19,
   "id": "36153e9c-1305-47dd-9060-1e69bf831915",
   "metadata": {},
   "outputs": [
    {
     "name": "stdout",
     "output_type": "stream",
     "text": [
      "this will give ,me a detail about data science student\n",
      "this will give me deatail about big data student\n"
     ]
    }
   ],
   "source": [
    "class pwskills:\n",
    "    def student(self):\n",
    "        pass                                       \n",
    "    \n",
    "    \n",
    "class datascience(pwskills):\n",
    "    def student(self):\n",
    "        print(\"this will give ,me a detail about data science student\")\n",
    "        \n",
    "class bigdata(pwskills):\n",
    "    def student(self):\n",
    "        print(\"this will give me deatail about big data student\")\n",
    "        \n",
    "yash = datascience()\n",
    "vishal = bigdata()\n",
    "yash.student()\n",
    "vishal.student()"
   ]
  },
  {
   "cell_type": "code",
   "execution_count": 20,
   "id": "9f726811-8490-49c2-a69c-17498d2188d4",
   "metadata": {},
   "outputs": [],
   "source": [
    "#5. How is polymorphism different from method overloading in Python? Provide examples for both."
   ]
  },
  {
   "cell_type": "code",
   "execution_count": 21,
   "id": "dad061c8-1bed-42c4-8c36-8871f48b4c57",
   "metadata": {},
   "outputs": [
    {
     "data": {
      "text/plain": [
       "'Overloading is just a way of providing multiple ways of calling the same method/function/constructor with default values, less arguments etc. Polymorphism is about object inheritance, sub classes etc.'"
      ]
     },
     "execution_count": 21,
     "metadata": {},
     "output_type": "execute_result"
    }
   ],
   "source": [
    "'''Overloading is just a way of providing multiple ways of calling the same method/function/constructor with default values, less arguments etc. Polymorphism is about object inheritance, sub classes etc.'''"
   ]
  },
  {
   "cell_type": "code",
   "execution_count": 22,
   "id": "9b9a8a75-2651-48d9-8c7f-082b1604c0e1",
   "metadata": {},
   "outputs": [
    {
     "name": "stdout",
     "output_type": "stream",
     "text": [
      "3 22\n"
     ]
    }
   ],
   "source": [
    "class bigdata:\n",
    "    def __init__(self,number_of_class,number_of_student):\n",
    "        self.number_of_class = number_of_class\n",
    "        self.number_of_student = number_of_student\n",
    "        \n",
    "    def __add__(self,other):\n",
    "        return bigdata(self.number_of_class+other.number_of_class,self.number_of_student+other.number_of_student)\n",
    "\n",
    "c1 = bigdata(1,10)\n",
    "c2 = bigdata(2,12)\n",
    "result = c1 +c2\n",
    "print(result.number_of_class,result.number_of_student)"
   ]
  },
  {
   "cell_type": "code",
   "execution_count": 24,
   "id": "34fe2058-b502-4f19-a1a1-27d1e43898e9",
   "metadata": {},
   "outputs": [],
   "source": [
    "#6. Create a Python class called `Animal` with a method `speak()`. Then, create child classes like `Dog`, `Cat`, and `Bird`, each with their own `speak()` method. Demonstrate polymorphism by calling the `speak()` method on objects of different subclasses."
   ]
  },
  {
   "cell_type": "code",
   "execution_count": 25,
   "id": "97ffcc21-3b76-474f-8384-9a1e81e38620",
   "metadata": {},
   "outputs": [
    {
     "name": "stdout",
     "output_type": "stream",
     "text": [
      "bird speak in frequency of 2mh\n",
      "bird speak in frequency of 28mh\n",
      "bird speak in frequency of 2mh\n"
     ]
    }
   ],
   "source": [
    "class animal:\n",
    "    def speak(self):\n",
    "        print(\"bird speak in frequency of 6mh\")\n",
    "        \n",
    "class dog(animal):\n",
    "    def speak(self):\n",
    "        print(\"bird speak in frequency of 2mh\")\n",
    "        \n",
    "class cat(animal):\n",
    "    def speak(self):\n",
    "        print(\"bird speak in frequency of 28mh\")\n",
    "        \n",
    "class bird(animal):\n",
    "    def speak(self):\n",
    "        print('bird speak in frequency of 2mh')\n",
    "        \n",
    "ob1= dog()\n",
    "ob2= cat()\n",
    "ob3= bird()\n",
    "ob1.speak()\n",
    "ob2.speak()\n",
    "ob3.speak()\n",
    "    "
   ]
  },
  {
   "cell_type": "code",
   "execution_count": 27,
   "id": "10ad18fc-4610-45b7-bfd3-8b27efdd9f81",
   "metadata": {},
   "outputs": [],
   "source": [
    "#7. Discuss the use of abstract methods and classes in achieving polymorphism in Python. Provide an exampleusing the `abc` module."
   ]
  },
  {
   "cell_type": "code",
   "execution_count": 28,
   "id": "5af8eef6-9377-4121-8c19-4e002f772bea",
   "metadata": {},
   "outputs": [
    {
     "data": {
      "text/plain": [
       "'abstractmethod() may be used to declare abstract methods for properties and descriptors. Polymorphism is an important feature of class definition in Python that is used when you have methods with the same name across classes or subclasses.'"
      ]
     },
     "execution_count": 28,
     "metadata": {},
     "output_type": "execute_result"
    }
   ],
   "source": [
    "'''abstractmethod() may be used to declare abstract methods for properties and descriptors. Polymorphism is an important feature of class definition in Python that is used when you have methods with the same name across classes or subclasses.'''"
   ]
  },
  {
   "cell_type": "code",
   "execution_count": null,
   "id": "c63954de-baa4-4c54-815f-4878bc573386",
   "metadata": {},
   "outputs": [],
   "source": [
    "8. Create a Python class hierarchy for a vehicle system (e.g., car, bicycle, boat) and implement a polymorphic \n",
    "`start()` method that prints a message specific to each vehicle type."
   ]
  },
  {
   "cell_type": "code",
   "execution_count": 31,
   "id": "df220d2e-5f21-4cd6-a97d-a1c04ae44cd1",
   "metadata": {},
   "outputs": [
    {
     "name": "stdout",
     "output_type": "stream",
     "text": [
      "the speed of vehicle is 500km/h\n",
      "the type has two tire\n",
      "boat is avialable\n"
     ]
    }
   ],
   "source": [
    "class vehicle:\n",
    "    def type_of(self):\n",
    "        pass\n",
    "        \n",
    "class car(vehicle):\n",
    "    \n",
    "    def type_of(self):\n",
    "        print(\"the speed of vehicle is 500km/h\")\n",
    "        \n",
    "class bicycle(vehicle):\n",
    "    \n",
    "    def type_of(self):\n",
    "        print(\"the type has two tire\")\n",
    "        \n",
    "class boat(vehicle):\n",
    "    \n",
    "    def type_of(self):\n",
    "        print('boat is avialable')\n",
    "        \n",
    "\n",
    "v = car()\n",
    "v1= bicycle()\n",
    "v2= boat()\n",
    "v.type_of()\n",
    "v1.type_of()\n",
    "v2.type_of()"
   ]
  },
  {
   "cell_type": "code",
   "execution_count": 32,
   "id": "99e5059a-64e4-490b-84b1-d82ccb2a3cee",
   "metadata": {},
   "outputs": [],
   "source": [
    "#9. Explain the significance of the `isinstance()` and `issubclass()` functions in Python polymorphism."
   ]
  },
  {
   "cell_type": "code",
   "execution_count": 33,
   "id": "2ffc8c1e-fd2e-4838-8c4b-9fdd703e3537",
   "metadata": {},
   "outputs": [
    {
     "data": {
      "text/plain": [
       "'The built-in functions isinstance and issubclass ask two different questions. isinstance(object, classinfo) asks whether an object is an instance of a class (or a tuple of classes). issubclass(class, classinfo) asks whether one class is a subclass of another class (or other classes'"
      ]
     },
     "execution_count": 33,
     "metadata": {},
     "output_type": "execute_result"
    }
   ],
   "source": [
    "'''The built-in functions isinstance and issubclass ask two different questions. isinstance(object, classinfo) asks whether an object is an instance of a class (or a tuple of classes). issubclass(class, classinfo) asks whether one class is a subclass of another class (or other classes'''"
   ]
  },
  {
   "cell_type": "code",
   "execution_count": 35,
   "id": "f0991759-d604-44dc-9335-87d820473377",
   "metadata": {},
   "outputs": [],
   "source": [
    "#10The built-in functions isinstance and issubclass ask two different questions. isinstance(object, classinfo) asks whether an object is an instance of a class (or a tuple of classes). issubclass(class, classinfo) asks whether one class is a subclass of another class (or other classes"
   ]
  },
  {
   "cell_type": "code",
   "execution_count": 36,
   "id": "361ef5ea-a74d-46c4-aefb-5db7843fa491",
   "metadata": {},
   "outputs": [
    {
     "data": {
      "text/plain": [
       "'A method becomes abstract when decorated with the keyword @abstractmethod'"
      ]
     },
     "execution_count": 36,
     "metadata": {},
     "output_type": "execute_result"
    }
   ],
   "source": [
    "'''A method becomes abstract when decorated with the keyword @abstractmethod'''"
   ]
  },
  {
   "cell_type": "code",
   "execution_count": 42,
   "id": "bb5750b8-50ad-4343-9484-773a9044906e",
   "metadata": {},
   "outputs": [
    {
     "data": {
      "text/plain": [
       "'data analyst'"
      ]
     },
     "execution_count": 42,
     "metadata": {},
     "output_type": "execute_result"
    }
   ],
   "source": [
    "\n",
    "class vish:\n",
    "    def __init__(self,subject):\n",
    "        self.__subject = subject\n",
    "        \n",
    "    @property\n",
    "    def subject(self):\n",
    "        return self.__subject\n",
    "    \n",
    "    @subject.setter\n",
    "    def subject(self,subject):\n",
    "        \n",
    "        self.__subject = subject\n",
    "    \n",
    "    \n",
    "    @subject.getter\n",
    "    def subject(self):\n",
    "        \n",
    "        return self.__subject \n",
    "    \n",
    "s2 = vish(\"data analyst\")\n",
    "s2.subject"
   ]
  },
  {
   "cell_type": "code",
   "execution_count": 43,
   "id": "63cfc917-0cee-484c-84c9-78156beb77a9",
   "metadata": {},
   "outputs": [],
   "source": [
    "#11. Create a Python class called `Shape` with a polymorphic method `area()` that calculates the area of different shapes (e.g., circle, rectangle, triangle)."
   ]
  },
  {
   "cell_type": "code",
   "execution_count": 44,
   "id": "95251add-28b7-4261-8b24-a6c2b4abfa0d",
   "metadata": {},
   "outputs": [
    {
     "name": "stdout",
     "output_type": "stream",
     "text": [
      "the area of circle is 3.14\n",
      "the area of shape 1.0\n"
     ]
    }
   ],
   "source": [
    "class hierarchy:\n",
    "    \n",
    "\n",
    "    def cal_area(self,w,h):\n",
    "        \n",
    "        area = w*h\n",
    "        print(\"the area of shape\", area)\n",
    "\n",
    "\n",
    "class circle(hierarchy):\n",
    "    def cal_area(self,r):\n",
    "        area1 = 3.14*r**2\n",
    "        print(\"the area of circle is\",area1)\n",
    "        \n",
    "class triangle(hierarchy):\n",
    "    def cal_area(self,b,h):\n",
    "        area2 = 0.5*b*h\n",
    "        print(\"the area of shape\", area2)\n",
    "    \n",
    "    \n",
    "a1 = circle()\n",
    "a2 = triangle()\n",
    "a1.cal_area(1)\n",
    "a2.cal_area(1,2)"
   ]
  },
  {
   "cell_type": "code",
   "execution_count": 45,
   "id": "8ae2ca66-0bd3-487c-8a6b-e6168de5c2be",
   "metadata": {},
   "outputs": [],
   "source": [
    "#12. Discuss the benefits of polymorphism in terms of code reusability and flexibility in Python programs."
   ]
  },
  {
   "cell_type": "code",
   "execution_count": 46,
   "id": "08e3145f-035a-4c18-90d9-2d5327c556e2",
   "metadata": {},
   "outputs": [
    {
     "data": {
      "text/plain": [
       "'By enabling programmers to reuse the same code for various data types, polymorphism encourages code reuse. As a result, less code needs to be written and code maintenance is made simpler over time.'"
      ]
     },
     "execution_count": 46,
     "metadata": {},
     "output_type": "execute_result"
    }
   ],
   "source": [
    "'''By enabling programmers to reuse the same code for various data types, polymorphism encourages code reuse. As a result, less code needs to be written and code maintenance is made simpler over time.'''"
   ]
  },
  {
   "cell_type": "code",
   "execution_count": 47,
   "id": "19242e7c-d835-437f-ba5b-cb60fb1ea118",
   "metadata": {},
   "outputs": [],
   "source": [
    "#13. Explain the use of the `super()` function in Python polymorphism. How does it help call methods of parentclasses?"
   ]
  },
  {
   "cell_type": "code",
   "execution_count": 48,
   "id": "54911655-ea92-4532-8e6c-3386b6741aa6",
   "metadata": {},
   "outputs": [
    {
     "data": {
      "text/plain": [
       "'the super() function is used to refer to the parent class or superclass. It allows you to call methods defined in the superclass from the subclass, enabling you to extend and customize the functionality inherited from the parent class'"
      ]
     },
     "execution_count": 48,
     "metadata": {},
     "output_type": "execute_result"
    }
   ],
   "source": [
    "'''the super() function is used to refer to the parent class or superclass. It allows you to call methods defined in the superclass from the subclass, enabling you to extend and customize the functionality inherited from the parent class'''"
   ]
  },
  {
   "cell_type": "code",
   "execution_count": 81,
   "id": "4af1becc-df29-4e4e-8fa0-72e587d648cc",
   "metadata": {},
   "outputs": [],
   "source": [
    "#14. Create a Python class hierarchy for a banking system with various account types (e.g., savings, checking, credit card) and demonstrate polymorphism by implementing a common `withdraw()` method."
   ]
  },
  {
   "cell_type": "code",
   "execution_count": 82,
   "id": "4cb05e18-b8cb-47f7-b6dd-f8cc6baac56f",
   "metadata": {},
   "outputs": [
    {
     "name": "stdout",
     "output_type": "stream",
     "text": [
      " saving balance is\n",
      "checked account is pnb\n",
      "credit card score is 3353\n"
     ]
    }
   ],
   "source": [
    "class hierarchy:\n",
    "    pass\n",
    "\n",
    "class saving_account(hierarchy):\n",
    "    \n",
    "        \n",
    "    def withdraw(self):\n",
    "        print(' saving balance is')\n",
    "\n",
    "class checking_acc(hierarchy):\n",
    "    def withdraw(self):\n",
    "        print('checked account is pnb')\n",
    "    \n",
    "class credit_card(hierarchy):\n",
    "    def withdraw(self):\n",
    "        print('credit card score is 3353')\n",
    "    \n",
    "    \n",
    "a = saving_account()\n",
    "b = checking_acc()\n",
    "c = credit_card()\n",
    "\n",
    "a.withdraw()\n",
    "b.withdraw()\n",
    "c.withdraw()\n",
    "        "
   ]
  },
  {
   "cell_type": "code",
   "execution_count": 90,
   "id": "c64b58e5-ae7b-40de-b63f-79a2492666d2",
   "metadata": {},
   "outputs": [],
   "source": [
    "#15. Describe the concept of operator overloading in Python and how it relates to polymorphism. Provideexamples using operators like `+` and `*`."
   ]
  },
  {
   "cell_type": "code",
   "execution_count": 91,
   "id": "6e61f21c-df7d-4079-a7e9-fd9519b5bd25",
   "metadata": {},
   "outputs": [
    {
     "data": {
      "text/plain": [
       "'The process of utilizing an operator in different ways depending on the operands is known as operator overloading. '"
      ]
     },
     "execution_count": 91,
     "metadata": {},
     "output_type": "execute_result"
    }
   ],
   "source": [
    "'''The process of utilizing an operator in different ways depending on the operands is known as operator overloading. '''"
   ]
  },
  {
   "cell_type": "code",
   "execution_count": 92,
   "id": "6cfe74ff-486b-4d55-9d9e-a1d4e055e043",
   "metadata": {},
   "outputs": [
    {
     "name": "stdout",
     "output_type": "stream",
     "text": [
      "3 22\n",
      "2 120\n"
     ]
    }
   ],
   "source": [
    "class bigdata:\n",
    "    def __init__(self,number_of_class,number_of_student):\n",
    "        self.number_of_class = number_of_class\n",
    "        self.number_of_student = number_of_student\n",
    "        \n",
    "    def __add__(self,other):\n",
    "        return bigdata(self.number_of_class+other.number_of_class,self.number_of_student+other.number_of_student)\n",
    "    \n",
    "    def __mul__(self,other):\n",
    "        return bigdata(self.number_of_class*other.number_of_class,self.number_of_student*other.number_of_student)\n",
    "\n",
    "\n",
    "c1 = bigdata(1,10)\n",
    "c2 = bigdata(2,12)\n",
    "result = c1 +c2\n",
    "result1 = c1*c2\n",
    "print(result.number_of_class,result.number_of_student)\n",
    "print(result1.number_of_class,result1.number_of_student)"
   ]
  },
  {
   "cell_type": "code",
   "execution_count": 93,
   "id": "211345f1-a129-4438-b527-2334f88643aa",
   "metadata": {},
   "outputs": [],
   "source": [
    "#16. What is dynamic polymorphism, and how is it achieved in Python?"
   ]
  },
  {
   "cell_type": "code",
   "execution_count": 94,
   "id": "b2eeefdf-9355-4696-9310-817af191d319",
   "metadata": {},
   "outputs": [
    {
     "data": {
      "text/plain": [
       "' defines methods in the child class that have the same name as the methods in the parent class.'"
      ]
     },
     "execution_count": 94,
     "metadata": {},
     "output_type": "execute_result"
    }
   ],
   "source": [
    "''' defines methods in the child class that have the same name as the methods in the parent class.'''"
   ]
  },
  {
   "cell_type": "code",
   "execution_count": 96,
   "id": "c7efaec1-c9ad-4563-b1d0-7d8c3664f919",
   "metadata": {},
   "outputs": [],
   "source": [
    "#17. Create a Python class hierarchy for employees in a company (e.g., manager, developer, designer) and implement polymorphism through a common `calculate_salary()` method."
   ]
  },
  {
   "cell_type": "code",
   "execution_count": 97,
   "id": "bd525a87-c3ae-4f03-a310-d758f1f0a69b",
   "metadata": {},
   "outputs": [
    {
     "name": "stdout",
     "output_type": "stream",
     "text": [
      " salary is 6575\n",
      "salary is 66575\n",
      "salary is 66575\n"
     ]
    }
   ],
   "source": [
    "class hierarchy:\n",
    "    pass\n",
    "\n",
    "class manager(hierarchy):\n",
    "    \n",
    "        \n",
    "    def cal_sal(self):\n",
    "        print(' salary is 6575')\n",
    "\n",
    "class developer(hierarchy):\n",
    "    def cal_sal(self):\n",
    "        print('salary is 66575')\n",
    "    \n",
    "class designer(hierarchy):\n",
    "    def cal_sal(self):\n",
    "        print('salary is  3353')\n",
    "    \n",
    "    \n",
    "a = manager()\n",
    "b = developer()\n",
    "c = developer()\n",
    "\n",
    "a.cal_sal()\n",
    "b.cal_sal()\n",
    "c.cal_sal()\n",
    "        "
   ]
  },
  {
   "cell_type": "code",
   "execution_count": 98,
   "id": "0ac04853-be52-4474-b61f-79c6de050e86",
   "metadata": {},
   "outputs": [],
   "source": [
    "#18. Discuss the concept of function pointers and how they can be used to achieve polymorphism in Python."
   ]
  },
  {
   "cell_type": "code",
   "execution_count": 101,
   "id": "03c1e01c-b282-4e75-95aa-1fd0627c84d1",
   "metadata": {},
   "outputs": [
    {
     "data": {
      "text/plain": [
       "'A pointer to a function points to the address of the executable code of the function. it is used as self i.e dunder funtion'"
      ]
     },
     "execution_count": 101,
     "metadata": {},
     "output_type": "execute_result"
    }
   ],
   "source": [
    "\n",
    "'''A pointer to a function points to the address of the executable code of the function. it is used as self i.e dunder funtion'''"
   ]
  },
  {
   "cell_type": "code",
   "execution_count": 103,
   "id": "d1804484-f7de-49fa-9139-cd417dc3dee2",
   "metadata": {},
   "outputs": [],
   "source": [
    "#19. Explain the role of interfaces and abstract classes in polymorphism, drawing comparisons between them."
   ]
  },
  {
   "cell_type": "code",
   "execution_count": 104,
   "id": "e51c5a76-b6bd-421b-8eef-c7ca4a28b524",
   "metadata": {},
   "outputs": [
    {
     "data": {
      "text/plain": [
       "'Abstraction is a general guideline giving independence of implementation to the follower classes while Polymorphism is differential approach which override the methods/rules set by parent class'"
      ]
     },
     "execution_count": 104,
     "metadata": {},
     "output_type": "execute_result"
    }
   ],
   "source": [
    "'''Abstraction is a general guideline giving independence of implementation to the follower classes while Polymorphism is differential approach which override the methods/rules set by parent class'''"
   ]
  },
  {
   "cell_type": "code",
   "execution_count": 105,
   "id": "0c1a2a1d-07a3-41dc-8666-db9566acb648",
   "metadata": {},
   "outputs": [],
   "source": [
    "#20. Create a Python class for a zoo simulation, demonstrating polymorphism with different animal types \n",
    "(e.g., mammals, birds, reptiles) and their behavior (e.g., eating, sleeping, making sounds)."
   ]
  },
  {
   "cell_type": "code",
   "execution_count": 107,
   "id": "44b1f153-c496-414f-be3c-a7402563880d",
   "metadata": {},
   "outputs": [
    {
     "name": "stdout",
     "output_type": "stream",
     "text": [
      " eating non vegeterian\n",
      "sleep 12h aday\n",
      " eating  vegeterian\n",
      "sleep 2h aday\n",
      " eating non vegeterian\n",
      "sleep 4h aday\n"
     ]
    }
   ],
   "source": [
    "class zoosimulator:\n",
    "    \n",
    "    pass\n",
    "\n",
    "class mammals(zoosimulator):\n",
    "    def behaviour(self):\n",
    "        print(' eating non vegeterian')\n",
    "        print('sleep 12h aday')\n",
    "        \n",
    "class bird(zoosimulator):\n",
    "     def behaviour(self):\n",
    "        print(' eating  vegeterian')\n",
    "        print('sleep 2h aday')\n",
    "        \n",
    "class reptile(zoosimulator):\n",
    "     def behaviour(self):\n",
    "        print(' eating non vegeterian')\n",
    "        print('sleep 4h aday')\n",
    "        \n",
    "        \n",
    "a = mammals()\n",
    "b = bird()\n",
    "c = reptile()\n",
    "a.behaviour()\n",
    "b.behaviour()\n",
    "c.behaviour()"
   ]
  },
  {
   "cell_type": "code",
   "execution_count": null,
   "id": "f7060d94-4076-4b9d-8841-04d647c43a57",
   "metadata": {},
   "outputs": [],
   "source": [
    "                                #encapsulation"
   ]
  },
  {
   "cell_type": "code",
   "execution_count": 1,
   "id": "bcde42be-18be-4907-88e0-fbbedd2fbae8",
   "metadata": {},
   "outputs": [],
   "source": [
    "#1. Explain the concept of encapsulation in Python. What is its role in object-oriented programming?"
   ]
  },
  {
   "cell_type": "code",
   "execution_count": 2,
   "id": "8d36e41d-32c3-47f1-bc49-d3adf18429fe",
   "metadata": {},
   "outputs": [
    {
     "data": {
      "text/plain": [
       "'encapsulation is nothing but a technique to hide the method or attribute in which you have to store your private variable '"
      ]
     },
     "execution_count": 2,
     "metadata": {},
     "output_type": "execute_result"
    }
   ],
   "source": [
    "'''encapsulation is nothing but a technique to hide the method or attribute in which you have to store your private variable '''"
   ]
  },
  {
   "cell_type": "code",
   "execution_count": 3,
   "id": "5313039c-6b11-4eed-8c42-c40475548fc8",
   "metadata": {},
   "outputs": [],
   "source": [
    "#2. Describe the key principles of encapsulation, including access control and data hiding."
   ]
  },
  {
   "cell_type": "code",
   "execution_count": 4,
   "id": "43b55cc8-7b82-4b1a-a563-4b5b4357ac6e",
   "metadata": {},
   "outputs": [
    {
     "data": {
      "text/plain": [
       "'Data encapsulation targets how the data is accessed and how different objects behave. Data hiding focuses on object member accessibility within a class, and information hiding is the most common encapsulation method.'"
      ]
     },
     "execution_count": 4,
     "metadata": {},
     "output_type": "execute_result"
    }
   ],
   "source": [
    "'''Data encapsulation targets how the data is accessed and how different objects behave. Data hiding focuses on object member accessibility within a class, and information hiding is the most common encapsulation method.'''"
   ]
  },
  {
   "cell_type": "code",
   "execution_count": 5,
   "id": "2a06ab83-7634-4811-b2e0-9b2354cbf41f",
   "metadata": {},
   "outputs": [],
   "source": [
    "#3. How can you achieve encapsulation in Python classes? Provide an example."
   ]
  },
  {
   "cell_type": "code",
   "execution_count": 20,
   "id": "33c56586-1150-4980-82f7-42952eac2cf2",
   "metadata": {},
   "outputs": [],
   "source": [
    "class gmail_account:\n",
    "    def __init__(self):\n",
    "        self.__x = \"vish@gamil.com\"\n",
    "        \n",
    "   \n",
    "    def access_var(self):\n",
    "        return self.__x\n",
    "    \n",
    "    def update_var(self,data):\n",
    "        self.__x = data"
   ]
  },
  {
   "cell_type": "code",
   "execution_count": 21,
   "id": "69209b41-277d-41f1-8af4-751431574729",
   "metadata": {},
   "outputs": [],
   "source": [
    "a = gmail_account()"
   ]
  },
  {
   "cell_type": "code",
   "execution_count": 22,
   "id": "18a1c1ae-546b-4773-be68-9c460c7af418",
   "metadata": {},
   "outputs": [
    {
     "data": {
      "text/plain": [
       "'vish@gamil.com'"
      ]
     },
     "execution_count": 22,
     "metadata": {},
     "output_type": "execute_result"
    }
   ],
   "source": [
    "a.access_var()"
   ]
  },
  {
   "cell_type": "code",
   "execution_count": 24,
   "id": "99721898-4ef4-49e6-887d-e51e1f6004a8",
   "metadata": {},
   "outputs": [],
   "source": [
    "#4. Discuss the difference between public, private, and protected access modifiers in Python."
   ]
  },
  {
   "cell_type": "code",
   "execution_count": 25,
   "id": "172ebef2-7f67-4727-bdbc-4026bcfd03b8",
   "metadata": {},
   "outputs": [
    {
     "data": {
      "text/plain": [
       "'__private,_protected,public'"
      ]
     },
     "execution_count": 25,
     "metadata": {},
     "output_type": "execute_result"
    }
   ],
   "source": [
    "'''__private,_protected,public'''\n"
   ]
  },
  {
   "cell_type": "code",
   "execution_count": 29,
   "id": "4fb84f33-9b32-48ff-892e-fd85c502c0dc",
   "metadata": {},
   "outputs": [],
   "source": [
    "#5. Create a Python class called `Person` with a private attribute `__name`. Provide methods to get and set thename attribute."
   ]
  },
  {
   "cell_type": "code",
   "execution_count": 60,
   "id": "d5c8189d-9167-467b-97ad-1684c00d6835",
   "metadata": {},
   "outputs": [],
   "source": [
    "class person:\n",
    "        def __init__(self,subject):\n",
    "            \n",
    "            self.__subject = subject\n",
    "\n",
    "        @property\n",
    "        def subject(self):\n",
    "            return self.__subject\n",
    "\n",
    "        @subject.setter\n",
    "        def subject(self,subject):\n",
    "\n",
    "            self.__subject = subject\n",
    "\n",
    "\n",
    "        @subject.getter\n",
    "        def subject(self):\n",
    "\n",
    "            return self.__subject \n"
   ]
  },
  {
   "cell_type": "code",
   "execution_count": 61,
   "id": "786ce5fb-0f4c-4600-afe4-426e1deefab3",
   "metadata": {},
   "outputs": [],
   "source": [
    "s = person('vish')"
   ]
  },
  {
   "cell_type": "code",
   "execution_count": 62,
   "id": "df007ad1-b6b0-4697-858e-46cdaf10a256",
   "metadata": {},
   "outputs": [
    {
     "data": {
      "text/plain": [
       "'vish'"
      ]
     },
     "execution_count": 62,
     "metadata": {},
     "output_type": "execute_result"
    }
   ],
   "source": [
    "s.subject"
   ]
  },
  {
   "cell_type": "code",
   "execution_count": 63,
   "id": "4598b382-4a8b-4a79-a90a-1902458cad54",
   "metadata": {},
   "outputs": [],
   "source": [
    "#6. Explain the purpose of getter and setter methods in encapsulation. Provide examples."
   ]
  },
  {
   "cell_type": "code",
   "execution_count": 64,
   "id": "05f4a3d4-4026-40c2-9e62-8779ba92b2b2",
   "metadata": {},
   "outputs": [
    {
     "data": {
      "text/plain": [
       "'@setter is set the value via method by decorator which should be a private variable and @getter is generate the another method to return the stoed value in setter'"
      ]
     },
     "execution_count": 64,
     "metadata": {},
     "output_type": "execute_result"
    }
   ],
   "source": [
    "'''@setter is set the value via method by decorator which should be a private variable and @getter is generate the another method to return the stoed value in setter'''"
   ]
  },
  {
   "cell_type": "code",
   "execution_count": 65,
   "id": "81f1d6cf-5807-4c01-9714-bc14e9c950c4",
   "metadata": {},
   "outputs": [],
   "source": [
    "class test:\n",
    "    def __init__(self,subject):\n",
    "        self.__subject = subject\n",
    "        \n",
    "    @property\n",
    "    def subject(self):\n",
    "        return self.__subject\n",
    "    \n",
    "    @subject.setter\n",
    "    def subject(self,subject):\n",
    "        return self.__subject\n",
    "    \n",
    "    @subject.getter\n",
    "    def subject(self):\n",
    "        return self.__subject\n",
    "        "
   ]
  },
  {
   "cell_type": "code",
   "execution_count": 66,
   "id": "c8db3532-5d4f-48e2-86a1-52f4346719ce",
   "metadata": {},
   "outputs": [],
   "source": [
    "a = test(\"data sc\")"
   ]
  },
  {
   "cell_type": "code",
   "execution_count": 67,
   "id": "947a5954-9bd9-430f-92b9-12fe523961b4",
   "metadata": {},
   "outputs": [
    {
     "data": {
      "text/plain": [
       "'data sc'"
      ]
     },
     "execution_count": 67,
     "metadata": {},
     "output_type": "execute_result"
    }
   ],
   "source": [
    "a.subject"
   ]
  },
  {
   "cell_type": "code",
   "execution_count": 69,
   "id": "3f4b05f4-cfbf-4337-b8c0-50f2bde84754",
   "metadata": {},
   "outputs": [],
   "source": [
    "#7. What is name mangling in Python, and how does it affect encapsulation?"
   ]
  },
  {
   "cell_type": "code",
   "execution_count": 70,
   "id": "062c8a26-9888-4314-881f-0d129ebe64f5",
   "metadata": {},
   "outputs": [
    {
     "data": {
      "text/plain": [
       "' any identifier with two leading underscore and one trailing underscore is textually replaced with _classname__identifier where classname is the name of the current class.'"
      ]
     },
     "execution_count": 70,
     "metadata": {},
     "output_type": "execute_result"
    }
   ],
   "source": [
    "''' any identifier with two leading underscore and one trailing underscore is textually replaced with _classname__identifier where classname is the name of the current class.'''"
   ]
  },
  {
   "cell_type": "code",
   "execution_count": 168,
   "id": "0cd6a1ff-c0ea-4a22-9d49-4c8328ae1c4a",
   "metadata": {},
   "outputs": [],
   "source": [
    "#8. Create a Python class called `BankAccount` with private attributes for the account balance (`__balance`) and account number (`__account_number`). Provide methods for depositing and withdrawing money."
   ]
  },
  {
   "cell_type": "code",
   "execution_count": 160,
   "id": "06630e26-736a-4c8f-8ad2-ec338c7ab765",
   "metadata": {},
   "outputs": [],
   "source": [
    "class BankAccount:\n",
    "    def __init__(self):\n",
    "        self.__balance = 6876876\n",
    "        self.__account_num = \"2100002000200200202020202\"\n",
    "        \n",
    "    def __detail(self):\n",
    "        return \"this will give me deatils\"\n",
    "    \n",
    "    def deposite_money(self,data):\n",
    "        self.__balance = self.__balance + data\n",
    "        \n",
    "    def withdraw_money(self,data):\n",
    "        self.__balance = self.__balance - data\n",
    "        \n",
    "    def access_balance(self):\n",
    "        return self.__balance\n",
    "    \n",
    "    def number(self):\n",
    "        return self.__account_num\n",
    "    \n",
    "    def showdata(self):\n",
    "        return self.__balance\n",
    "    \n",
    "    "
   ]
  },
  {
   "cell_type": "code",
   "execution_count": 161,
   "id": "40c10e5d-da12-4ab4-a127-9d3585b6bffd",
   "metadata": {},
   "outputs": [],
   "source": [
    "de =  BankAccount()"
   ]
  },
  {
   "cell_type": "code",
   "execution_count": 162,
   "id": "254a4d0c-0f72-4fac-bba5-a2459cba2d5f",
   "metadata": {},
   "outputs": [
    {
     "data": {
      "text/plain": [
       "6876876"
      ]
     },
     "execution_count": 162,
     "metadata": {},
     "output_type": "execute_result"
    }
   ],
   "source": [
    "de.access_balance()"
   ]
  },
  {
   "cell_type": "code",
   "execution_count": 163,
   "id": "0b9f1308-e208-4c32-badd-983e28ed0883",
   "metadata": {},
   "outputs": [
    {
     "data": {
      "text/plain": [
       "'2100002000200200202020202'"
      ]
     },
     "execution_count": 163,
     "metadata": {},
     "output_type": "execute_result"
    }
   ],
   "source": [
    "de.number()"
   ]
  },
  {
   "cell_type": "code",
   "execution_count": 164,
   "id": "64dd7042-c21e-4cb7-9e1b-d224b6b329da",
   "metadata": {},
   "outputs": [],
   "source": [
    "de.withdraw_money(8)"
   ]
  },
  {
   "cell_type": "code",
   "execution_count": 165,
   "id": "73edfdc6-27a2-4953-b58e-370ababbc5c6",
   "metadata": {},
   "outputs": [
    {
     "data": {
      "text/plain": [
       "6876868"
      ]
     },
     "execution_count": 165,
     "metadata": {},
     "output_type": "execute_result"
    }
   ],
   "source": [
    "de.showdata()"
   ]
  },
  {
   "cell_type": "code",
   "execution_count": 166,
   "id": "3bb7b595-03c2-4cd0-ab71-4930a3c633f7",
   "metadata": {},
   "outputs": [],
   "source": [
    "de.deposite_money(78)"
   ]
  },
  {
   "cell_type": "code",
   "execution_count": 167,
   "id": "53d8f21d-8982-4100-80f9-0b9b1730bbc4",
   "metadata": {},
   "outputs": [
    {
     "data": {
      "text/plain": [
       "6876946"
      ]
     },
     "execution_count": 167,
     "metadata": {},
     "output_type": "execute_result"
    }
   ],
   "source": [
    "de.showdata()"
   ]
  },
  {
   "cell_type": "code",
   "execution_count": 169,
   "id": "62cff96d-7b03-455b-a902-b1220dc3274d",
   "metadata": {},
   "outputs": [],
   "source": [
    "#9. Discuss the advantages of encapsulation in terms of code maintainability and security."
   ]
  },
  {
   "cell_type": "code",
   "execution_count": 170,
   "id": "515056f1-07d9-4bdf-9325-482038dfc99d",
   "metadata": {},
   "outputs": [
    {
     "data": {
      "text/plain": [
       "'encapsulate make methods private and protected so that other person can performs operation but cannot understand hows it running'"
      ]
     },
     "execution_count": 170,
     "metadata": {},
     "output_type": "execute_result"
    }
   ],
   "source": [
    "'''encapsulate make methods private and protected so that other person can performs operation but cannot understand hows it running'''"
   ]
  },
  {
   "cell_type": "code",
   "execution_count": 171,
   "id": "000b4c02-4cbd-4b8c-b2ac-4dbaa70d4fb5",
   "metadata": {},
   "outputs": [],
   "source": [
    "#10. How can you access private attributes in Python? Provide an example demonstrating the use of namemangling."
   ]
  },
  {
   "cell_type": "code",
   "execution_count": 172,
   "id": "8ff1ba09-4fa5-4a00-b2c7-07d4cb2063ea",
   "metadata": {},
   "outputs": [
    {
     "data": {
      "text/plain": [
       "'vish@gamil.com'"
      ]
     },
     "execution_count": 172,
     "metadata": {},
     "output_type": "execute_result"
    }
   ],
   "source": [
    "\n",
    "class gmail_account:\n",
    "    def __init__(self):\n",
    "        self.__x = \"vish@gamil.com\"\n",
    "        \n",
    "   \n",
    "    def access_var(self):\n",
    "        return self.__x\n",
    "    \n",
    "    def update_var(self,data):\n",
    "        self.__x = data\n",
    "\n",
    "a = gmail_account()\n",
    "\n",
    "a.access_var()"
   ]
  },
  {
   "cell_type": "code",
   "execution_count": null,
   "id": "d03bf63f-eb81-4f42-a443-3c117af4d79b",
   "metadata": {},
   "outputs": [],
   "source": [
    "#11. Create a Python class hierarchy for a school system, including classes for students, teachers, and courses,\n",
    "and implement encapsulation principles to protect sensitive information."
   ]
  },
  {
   "cell_type": "code",
   "execution_count": 173,
   "id": "6526be10-8a51-4ee5-a923-db1f716684cc",
   "metadata": {},
   "outputs": [],
   "source": [
    "class school_system:\n",
    "    pass\n",
    "\n",
    "class students:\n",
    "    def __init__(self):\n",
    "        self.__name1 = \"vish\"\n",
    "        self.__name2 = \"raj\"\n",
    "        \n",
    "    def access_name1(self):\n",
    "        return self.__name1\n",
    "    \n",
    "    def access_name2(self):\n",
    "        return self.__name2\n",
    "    \n",
    "class teacher:\n",
    "    def __init__(self):\n",
    "        self.__salaryofphysicsteacher = 20000\n",
    "        self.__salaryofchemistryteacher = 30000\n",
    "        \n",
    "        \n",
    "    def access_sal_phy(self):\n",
    "        return self.__salaryofphysicsteacher\n",
    "    \n",
    "    def acces_sal_che(self):\n",
    "        return self.__salaryofchemistryteacher\n",
    "    \n",
    "class courses:\n",
    "    def __init__(self):\n",
    "        self.__course1 = \"pcm\"\n",
    "        self.__course2 = \"ss\"\n",
    "        \n",
    "    def accesscourse1(self):\n",
    "        return self.__course1\n",
    "    \n",
    "    def accesscourse2(self):\n",
    "        return self.__course2"
   ]
  },
  {
   "cell_type": "code",
   "execution_count": 176,
   "id": "103028f1-0f64-42ab-87db-12c0f47f1ac5",
   "metadata": {},
   "outputs": [],
   "source": [
    "x = teacher()"
   ]
  },
  {
   "cell_type": "code",
   "execution_count": 177,
   "id": "57014de7-40d2-4064-ba14-c6e60f673479",
   "metadata": {},
   "outputs": [
    {
     "data": {
      "text/plain": [
       "20000"
      ]
     },
     "execution_count": 177,
     "metadata": {},
     "output_type": "execute_result"
    }
   ],
   "source": [
    "x.access_sal_phy()"
   ]
  },
  {
   "cell_type": "code",
   "execution_count": 178,
   "id": "f3c5a608-2f0a-4092-9196-51d0756a396e",
   "metadata": {},
   "outputs": [
    {
     "data": {
      "text/plain": [
       "30000"
      ]
     },
     "execution_count": 178,
     "metadata": {},
     "output_type": "execute_result"
    }
   ],
   "source": [
    "x.acces_sal_che()"
   ]
  },
  {
   "cell_type": "code",
   "execution_count": 179,
   "id": "048eb52c-eddf-4844-9fa7-1e497eb1c074",
   "metadata": {},
   "outputs": [],
   "source": [
    "y = courses()"
   ]
  },
  {
   "cell_type": "code",
   "execution_count": 180,
   "id": "ab641607-4111-485e-bedf-7a6bab058178",
   "metadata": {},
   "outputs": [
    {
     "data": {
      "text/plain": [
       "'pcm'"
      ]
     },
     "execution_count": 180,
     "metadata": {},
     "output_type": "execute_result"
    }
   ],
   "source": [
    "y.accesscourse1()"
   ]
  },
  {
   "cell_type": "code",
   "execution_count": 181,
   "id": "f2176789-edf9-40ff-a22f-a9b491510d2a",
   "metadata": {},
   "outputs": [
    {
     "data": {
      "text/plain": [
       "'ss'"
      ]
     },
     "execution_count": 181,
     "metadata": {},
     "output_type": "execute_result"
    }
   ],
   "source": [
    "y.accesscourse2()"
   ]
  },
  {
   "cell_type": "code",
   "execution_count": 182,
   "id": "4b0c4729-f96f-4894-aeec-f44451f949ec",
   "metadata": {},
   "outputs": [],
   "source": [
    "#12. Explain the concept of property decorators in Python and how they relate to encapsulation."
   ]
  },
  {
   "cell_type": "code",
   "execution_count": 183,
   "id": "aa8903b4-0611-4e5a-a325-2dfa846bd29d",
   "metadata": {},
   "outputs": [
    {
     "data": {
      "text/plain": [
       "'a mechanism of wrapping the data (variables) and code acting on the data (methods) together as a single unit.'"
      ]
     },
     "execution_count": 183,
     "metadata": {},
     "output_type": "execute_result"
    }
   ],
   "source": [
    "'''a mechanism of wrapping the data (variables) and code acting on the data (methods) together as a single unit.'''"
   ]
  },
  {
   "cell_type": "code",
   "execution_count": 184,
   "id": "98792383-8024-4b8c-9bd5-2858697059cb",
   "metadata": {},
   "outputs": [],
   "source": [
    "#13. What is data hiding, and why is it important in encapsulation? Provide examples."
   ]
  },
  {
   "cell_type": "code",
   "execution_count": 185,
   "id": "fdf4ed68-52a0-4e18-aafc-881dfbfbd261",
   "metadata": {},
   "outputs": [
    {
     "data": {
      "text/plain": [
       "'hiding the internal data within the class to prevent its direct access from outside the class'"
      ]
     },
     "execution_count": 185,
     "metadata": {},
     "output_type": "execute_result"
    }
   ],
   "source": [
    "'''hiding the internal data within the class to prevent its direct access from outside the class'''"
   ]
  },
  {
   "cell_type": "code",
   "execution_count": 18,
   "id": "0241bc00-91fb-40d5-9c7f-16527238af4b",
   "metadata": {},
   "outputs": [],
   "source": [
    "#14. Create a Python class called `Employee` with private attributes for salary (`__salary`) and employee ID (`__employee_id`). Provide a method to calculate yearly bonuses."
   ]
  },
  {
   "cell_type": "code",
   "execution_count": 19,
   "id": "bc781892-0c55-4980-afb5-b4e329f2b9f7",
   "metadata": {},
   "outputs": [],
   "source": [
    "class employee:\n",
    "    def __init__(self):\n",
    "        self.__salary = 30000\n",
    "        self.__employeeid = \"1234\"\n",
    "        self.__diff = 5\n",
    "    def access_sal(self):\n",
    "        return self.__salary\n",
    "    \n",
    "    def access_employeeid(self):\n",
    "        return self.__employeeid\n",
    "    \n",
    "    def diff(self):\n",
    "        return self.__diff\n",
    "    \n",
    "    def find_bonus(self,data):\n",
    "        if data > 5:\n",
    "            return \"bonus of rupees : 3000\"\n",
    "        else:\n",
    "            print(\"no bonus\")\n",
    "        \n",
    "        \n",
    "    "
   ]
  },
  {
   "cell_type": "code",
   "execution_count": 20,
   "id": "a326908d-903b-406c-b91f-5d07869803fe",
   "metadata": {},
   "outputs": [],
   "source": [
    "x = employee()"
   ]
  },
  {
   "cell_type": "code",
   "execution_count": 21,
   "id": "9b3d5253-f5b8-400f-808e-db0e04eaad5f",
   "metadata": {},
   "outputs": [
    {
     "data": {
      "text/plain": [
       "30000"
      ]
     },
     "execution_count": 21,
     "metadata": {},
     "output_type": "execute_result"
    }
   ],
   "source": [
    "x.access_sal()"
   ]
  },
  {
   "cell_type": "code",
   "execution_count": 22,
   "id": "3b113079-968e-4be1-9591-1ecbcc005704",
   "metadata": {},
   "outputs": [
    {
     "data": {
      "text/plain": [
       "'bonus of rupees : 3000'"
      ]
     },
     "execution_count": 22,
     "metadata": {},
     "output_type": "execute_result"
    }
   ],
   "source": [
    "x.find_bonus(6)"
   ]
  },
  {
   "cell_type": "code",
   "execution_count": 23,
   "id": "13fcec90-cc00-4e1b-9293-018e935bacaf",
   "metadata": {},
   "outputs": [],
   "source": [
    "#15. Discuss the use of accessors and mutators in encapsulation. How do they help maintain control overattribute access?"
   ]
  },
  {
   "cell_type": "code",
   "execution_count": 24,
   "id": "e27b2326-ac18-41d0-9ea6-fa896c266a4d",
   "metadata": {},
   "outputs": [
    {
     "data": {
      "text/plain": [
       "'accessors are used to get the value of a private field and mutators are used to set the value of a private field.'"
      ]
     },
     "execution_count": 24,
     "metadata": {},
     "output_type": "execute_result"
    }
   ],
   "source": [
    "'''accessors are used to get the value of a private field and mutators are used to set the value of a private field.'''"
   ]
  },
  {
   "cell_type": "code",
   "execution_count": 25,
   "id": "25e54019-baae-4c77-83d4-f5d3bfd26e88",
   "metadata": {},
   "outputs": [],
   "source": [
    "#16. What are the potential drawbacks or disadvantages of using encapsulation in Python?"
   ]
  },
  {
   "cell_type": "code",
   "execution_count": 26,
   "id": "bfa78418-7fdd-4dc6-9369-730a1bb71e14",
   "metadata": {},
   "outputs": [
    {
     "data": {
      "text/plain": [
       "'As the size of the code increases, therefore, you need to provide additional instructions for every method.'"
      ]
     },
     "execution_count": 26,
     "metadata": {},
     "output_type": "execute_result"
    }
   ],
   "source": [
    "'''As the size of the code increases, therefore, you need to provide additional instructions for every method.'''"
   ]
  },
  {
   "cell_type": "code",
   "execution_count": 35,
   "id": "607e204f-92a9-4fb0-89ba-acb8cc30ae59",
   "metadata": {},
   "outputs": [],
   "source": [
    "#17. Create a Python class for a library system that encapsulates book information, including titles, authors,and availability status."
   ]
  },
  {
   "cell_type": "code",
   "execution_count": 36,
   "id": "38e4d4a2-1653-484b-8254-f03ae629db1f",
   "metadata": {},
   "outputs": [],
   "source": [
    "class library_system:\n",
    "    def __init__(self):\n",
    "        self.__title = \"data\"\n",
    "        self.__author = \"viru\"\n",
    "        \n",
    "    def fetch_title(self):\n",
    "        return self.__title\n",
    "    \n",
    "    def fetch_author(self):\n",
    "        return self.__author\n",
    "    "
   ]
  },
  {
   "cell_type": "code",
   "execution_count": 37,
   "id": "fb1c184a-0165-486b-84d2-a9071ce57e6e",
   "metadata": {},
   "outputs": [],
   "source": [
    "a = library_system()"
   ]
  },
  {
   "cell_type": "code",
   "execution_count": 38,
   "id": "642b47eb-b364-4314-be1d-ae8001680e4e",
   "metadata": {},
   "outputs": [
    {
     "data": {
      "text/plain": [
       "'viru'"
      ]
     },
     "execution_count": 38,
     "metadata": {},
     "output_type": "execute_result"
    }
   ],
   "source": [
    "a.fetch_author()"
   ]
  },
  {
   "cell_type": "code",
   "execution_count": 39,
   "id": "efccbd25-74d6-47f1-8c30-204fb3411f35",
   "metadata": {},
   "outputs": [
    {
     "data": {
      "text/plain": [
       "'data'"
      ]
     },
     "execution_count": 39,
     "metadata": {},
     "output_type": "execute_result"
    }
   ],
   "source": [
    "a.fetch_title()"
   ]
  },
  {
   "cell_type": "code",
   "execution_count": 40,
   "id": "d69a19b4-cd7b-4e6a-85c1-d15d41043691",
   "metadata": {},
   "outputs": [],
   "source": [
    "#18. Explain how encapsulation enhances code reusability and modularity in Python programs."
   ]
  },
  {
   "cell_type": "code",
   "execution_count": 41,
   "id": "6e0ff661-d464-49fd-bd7b-def101f82c2f",
   "metadata": {},
   "outputs": [
    {
     "data": {
      "text/plain": [
       "'think of modularity as a way of mapping encapsulated abstractions into real, physical modules. '"
      ]
     },
     "execution_count": 41,
     "metadata": {},
     "output_type": "execute_result"
    }
   ],
   "source": [
    "'''think of modularity as a way of mapping encapsulated abstractions into real, physical modules. '''"
   ]
  },
  {
   "cell_type": "code",
   "execution_count": 42,
   "id": "03bd2a54-308f-4b49-824e-45dd68067e1f",
   "metadata": {},
   "outputs": [],
   "source": [
    "#19. Describe the concept of information hiding in encapsulation. Why is it essential in software development?"
   ]
  },
  {
   "cell_type": "code",
   "execution_count": 43,
   "id": "2d65d536-228f-41d1-970f-3ce27d16d1ea",
   "metadata": {},
   "outputs": [
    {
     "data": {
      "text/plain": [
       "'Information hiding. Under the definition that encapsulation \"can be used to hide data members and member functions\", the internal representation of an object is generally hidden from view outside of the object\\'s definition. Typically, only the object\\'s own methods can directly inspect or manipulate its fields.'"
      ]
     },
     "execution_count": 43,
     "metadata": {},
     "output_type": "execute_result"
    }
   ],
   "source": [
    "'''Information hiding. Under the definition that encapsulation \"can be used to hide data members and member functions\", the internal representation of an object is generally hidden from view outside of the object's definition. Typically, only the object's own methods can directly inspect or manipulate its fields.'''"
   ]
  },
  {
   "cell_type": "code",
   "execution_count": 44,
   "id": "e9deab10-a96c-44a0-96e1-c4a81df4392f",
   "metadata": {},
   "outputs": [
    {
     "ename": "SyntaxError",
     "evalue": "invalid syntax (635061716.py, line 1)",
     "output_type": "error",
     "traceback": [
      "\u001b[0;36m  Cell \u001b[0;32mIn[44], line 1\u001b[0;36m\u001b[0m\n\u001b[0;31m    20. Create a Python class called `Customer` with private attributes for customer details like name, address,\u001b[0m\n\u001b[0m        ^\u001b[0m\n\u001b[0;31mSyntaxError\u001b[0m\u001b[0;31m:\u001b[0m invalid syntax\n"
     ]
    }
   ],
   "source": [
    "#20. Create a Python class called `Customer` with private attributes for customer details like name, address,\n",
    "and contact information. Implement encapsulation to ensure data integrity and security."
   ]
  },
  {
   "cell_type": "code",
   "execution_count": 56,
   "id": "c254e800-d1c1-4c54-bce9-3e6b811f0fb0",
   "metadata": {},
   "outputs": [],
   "source": [
    "class customer:\n",
    "    def __init__(self):\n",
    "        self.__name = \"vishal\"\n",
    "        self.__address = \"delhi,7627326,india\"\n",
    "        self.__contactnum = \"1234567890\"\n",
    "        \n",
    "    def accessname(self):\n",
    "        return self.__name\n",
    "    \n",
    "    def accessaddress(self):\n",
    "        return self.__address\n",
    "    \n",
    "    def accesscontact(self):\n",
    "        return self.__contactnum\n",
    "    "
   ]
  },
  {
   "cell_type": "code",
   "execution_count": 57,
   "id": "084563a7-727f-4f85-a3d5-7143f66a5c53",
   "metadata": {},
   "outputs": [],
   "source": [
    "z = customer()"
   ]
  },
  {
   "cell_type": "code",
   "execution_count": 58,
   "id": "276d7b9d-dd70-476c-9419-b298610b1c8c",
   "metadata": {},
   "outputs": [
    {
     "data": {
      "text/plain": [
       "'delhi,7627326,india'"
      ]
     },
     "execution_count": 58,
     "metadata": {},
     "output_type": "execute_result"
    }
   ],
   "source": [
    "z.accessaddress()"
   ]
  },
  {
   "cell_type": "code",
   "execution_count": 59,
   "id": "0124f2c6-18dc-4fc0-b59a-9f9e0e8a124c",
   "metadata": {},
   "outputs": [
    {
     "data": {
      "text/plain": [
       "'1234567890'"
      ]
     },
     "execution_count": 59,
     "metadata": {},
     "output_type": "execute_result"
    }
   ],
   "source": [
    "z.accesscontact()"
   ]
  },
  {
   "cell_type": "code",
   "execution_count": 60,
   "id": "2d748f7b-43e8-49a2-b086-23eca36f6dbc",
   "metadata": {},
   "outputs": [
    {
     "data": {
      "text/plain": [
       "'vishal'"
      ]
     },
     "execution_count": 60,
     "metadata": {},
     "output_type": "execute_result"
    }
   ],
   "source": [
    "z.accessname()"
   ]
  },
  {
   "cell_type": "code",
   "execution_count": null,
   "id": "85848fde-c38f-4930-a7ef-de4f15e3d40b",
   "metadata": {},
   "outputs": [],
   "source": []
  },
  {
   "cell_type": "code",
   "execution_count": 61,
   "id": "f3ba93f8-d5c6-4f86-9ad4-cf67b6e0e215",
   "metadata": {},
   "outputs": [],
   "source": [
    "                                #Abstraction:"
   ]
  },
  {
   "cell_type": "code",
   "execution_count": 62,
   "id": "352254c3-075e-4dc5-9900-e2c3be895cbc",
   "metadata": {},
   "outputs": [],
   "source": [
    "#1. What is abstraction in Python, and how does it relate to object-oriented programming?"
   ]
  },
  {
   "cell_type": "code",
   "execution_count": 63,
   "id": "d451596a-e9a7-4e99-a50d-68f311b8e5f1",
   "metadata": {},
   "outputs": [
    {
     "data": {
      "text/plain": [
       "'it provide a scaleton or outline of project'"
      ]
     },
     "execution_count": 63,
     "metadata": {},
     "output_type": "execute_result"
    }
   ],
   "source": [
    "'''it provide a scaleton or outline of project'''"
   ]
  },
  {
   "cell_type": "code",
   "execution_count": 64,
   "id": "e0a4689d-4c44-4128-aa81-d4e70d7c51b4",
   "metadata": {},
   "outputs": [],
   "source": [
    "#2. Describe the benefits of abstraction in terms of code organization and complexity reduction."
   ]
  },
  {
   "cell_type": "code",
   "execution_count": 65,
   "id": "df837b01-e69f-4829-bd1b-12a4f505c1b0",
   "metadata": {},
   "outputs": [
    {
     "data": {
      "text/plain": [
       "'abstraction reduce the complexity of code by decorate it by decorator'"
      ]
     },
     "execution_count": 65,
     "metadata": {},
     "output_type": "execute_result"
    }
   ],
   "source": [
    "'''abstraction reduce the complexity of code by decorate it by decorator'''"
   ]
  },
  {
   "cell_type": "code",
   "execution_count": 13,
   "id": "d2fe9ceb-6c44-4737-966f-cfa2674cf7da",
   "metadata": {},
   "outputs": [],
   "source": [
    "#3. Create a Python class called `Shape` with an abstract method `calculate_area()`. Then, create child classes (e.g., `Circle`, `Rectangle`) that implement the `calculate_area()` method. Provide an example ofusing these classes."
   ]
  },
  {
   "cell_type": "code",
   "execution_count": 14,
   "id": "e2dbc794-0188-4ea0-80d6-207123f54880",
   "metadata": {},
   "outputs": [],
   "source": [
    "from abc import ABC,abstractmethod\n",
    "\n",
    "@abstractmethod\n",
    "class shape(ABC):\n",
    "    pass\n",
    "\n",
    "@abstractmethod\n",
    "class circle(shape):\n",
    "    pass\n",
    "\n",
    "@abstractmethod\n",
    "class rectangle(shape):\n",
    "    pass"
   ]
  },
  {
   "cell_type": "code",
   "execution_count": 15,
   "id": "331c54d1-ec0f-4ac6-a1ef-d0ccc71425aa",
   "metadata": {},
   "outputs": [],
   "source": [
    "\n",
    "class circle(shape):\n",
    "    \n",
    "    def area_of_circle(self,r):\n",
    "        area1 = 3.14*r**2\n",
    "        print(\"the area of circle is\",area1)\n",
    "        \n",
    "class rectangle(shape):\n",
    "    def area_of_rectangle(w,h):\n",
    "        area = w*h\n",
    "        print(\"the area of shape\", area)\n",
    "    "
   ]
  },
  {
   "cell_type": "code",
   "execution_count": 16,
   "id": "afdc1041-c11d-4ebf-9eda-0267d01cba09",
   "metadata": {},
   "outputs": [],
   "source": [
    "a = circle()"
   ]
  },
  {
   "cell_type": "code",
   "execution_count": 17,
   "id": "7f163b1c-cd87-4dde-b8b9-252be0a5c841",
   "metadata": {},
   "outputs": [
    {
     "name": "stdout",
     "output_type": "stream",
     "text": [
      "the area of circle is 28.26\n"
     ]
    }
   ],
   "source": [
    "a.area_of_circle(3)"
   ]
  },
  {
   "cell_type": "code",
   "execution_count": 18,
   "id": "ebaa63c7-64a4-4809-b796-98efd5612368",
   "metadata": {},
   "outputs": [],
   "source": [
    "#4. Explain the concept of abstract classes in Python and how they are defined using the `abc` module. Providean example."
   ]
  },
  {
   "cell_type": "code",
   "execution_count": 19,
   "id": "bc12f477-8cf5-4b66-8383-aaf3a528755a",
   "metadata": {},
   "outputs": [
    {
     "data": {
      "text/plain": [
       "'abstraction is just provide the blue print of project'"
      ]
     },
     "execution_count": 19,
     "metadata": {},
     "output_type": "execute_result"
    }
   ],
   "source": [
    "'''abstraction is just provide the blue print of project'''"
   ]
  },
  {
   "cell_type": "code",
   "execution_count": 36,
   "id": "aaa428fc-ae71-4f40-9a08-14e05e1c037d",
   "metadata": {},
   "outputs": [],
   "source": [
    "from abc import ABC,abstractmethod\n",
    "\n",
    "\n",
    "class shape(ABC):\n",
    "    @abstractmethod\n",
    "    def area(self):\n",
    "        pass\n",
    "\n",
    "\n",
    "class circle(shape):\n",
    "    pass\n",
    "\n",
    "\n",
    "class rectangle(shape):\n",
    "    pass"
   ]
  },
  {
   "cell_type": "code",
   "execution_count": 26,
   "id": "bbb7c4c5-4638-49b8-b30f-4fb79700e607",
   "metadata": {},
   "outputs": [],
   "source": [
    "#5. How do abstract classes differ from regular classes in Python? Discuss their use cases."
   ]
  },
  {
   "cell_type": "code",
   "execution_count": 27,
   "id": "3f2a5a31-3650-4fb8-90ae-24384f261173",
   "metadata": {},
   "outputs": [
    {
     "data": {
      "text/plain": [
       "'A class is called an Abstract class if it contains one or more abstract methods. An abstract method is a method that is declared, but contains no implementation. Abstract classes may not be instantiated, and its abstract methods must be implemented by its'"
      ]
     },
     "execution_count": 27,
     "metadata": {},
     "output_type": "execute_result"
    }
   ],
   "source": [
    "\n",
    "'''A class is called an Abstract class if it contains one or more abstract methods. An abstract method is a method that is declared, but contains no implementation. Abstract classes may not be instantiated, and its abstract methods must be implemented by its'''"
   ]
  },
  {
   "cell_type": "code",
   "execution_count": 35,
   "id": "5587f8c1-d547-4b94-94f9-dc432d4cde15",
   "metadata": {},
   "outputs": [],
   "source": [
    "#6. Create a Python class for a bank account and demonstrate abstraction by hiding the account balance androviding methods to deposit and withdraw funds."
   ]
  },
  {
   "cell_type": "code",
   "execution_count": 44,
   "id": "0efed53c-9652-4478-8ac5-b1654cf97a18",
   "metadata": {},
   "outputs": [],
   "source": [
    "from abc import ABC, abstractmethod\n",
    "\n",
    "class operation(ABC):\n",
    "    \n",
    "   \n",
    "    @abstractmethod\n",
    "    def __detail(self):\n",
    "        pass\n",
    "        \n",
    "    @abstractmethod\n",
    "    def deposite_money(self,data):\n",
    "        pass\n",
    "        \n",
    "    @abstractmethod\n",
    "    def withdraw_money(self,data):\n",
    "        pass\n",
    "       \n",
    "    @abstractmethod\n",
    "    def access_balance(self):\n",
    "        pass\n",
    "   \n",
    "    @abstractmethod\n",
    "    def number(self):\n",
    "        pass\n",
    "    \n",
    "    @abstractmethod\n",
    "    def showdata(self):\n",
    "        pass\n",
    "    "
   ]
  },
  {
   "cell_type": "code",
   "execution_count": 45,
   "id": "0cc19806-f6c7-4aa2-8a50-13aa8ad13098",
   "metadata": {},
   "outputs": [],
   "source": [
    "\n",
    "\n",
    "\n",
    "class BankAccount(operation):\n",
    "    \n",
    "    def __init__(self):\n",
    "        self.__balance = 6876876\n",
    "        self.__account_num = \"2100002000200200202020202\"\n",
    "     \n",
    "  \n",
    "    def __detail(self):\n",
    "        return \"this will give me deatils\"\n",
    "    \n",
    "   \n",
    "    def deposite_money(self,data):\n",
    "        self.__balance = self.__balance + data\n",
    "   \n",
    "    def withdraw_money(self,data):\n",
    "        self.__balance = self.__balance - data\n",
    "       \n",
    "   \n",
    "    def access_balance(self):\n",
    "        return self.__balance\n",
    "    \n",
    "   \n",
    "    def number(self):\n",
    "        return self.__account_num\n",
    "    \n",
    "   \n",
    "    def showdata(self):\n",
    "        return self.__balance\n",
    "    "
   ]
  },
  {
   "cell_type": "code",
   "execution_count": 47,
   "id": "60de8574-bfa5-4b58-a651-367fd8fd3010",
   "metadata": {},
   "outputs": [],
   "source": [
    "a.deposite_money(767)"
   ]
  },
  {
   "cell_type": "code",
   "execution_count": 48,
   "id": "3bb15a74-9a15-4029-9f96-401faa98b14a",
   "metadata": {},
   "outputs": [
    {
     "data": {
      "text/plain": [
       "6878410"
      ]
     },
     "execution_count": 48,
     "metadata": {},
     "output_type": "execute_result"
    }
   ],
   "source": [
    "a.showdata()"
   ]
  },
  {
   "cell_type": "code",
   "execution_count": 49,
   "id": "f2f99799-0430-4584-9af4-dbe26f4fa871",
   "metadata": {},
   "outputs": [],
   "source": [
    "#7. Discuss the concept of interface classes in Python and their role in achieving abstraction."
   ]
  },
  {
   "cell_type": "code",
   "execution_count": 50,
   "id": "d4a4c11d-ca9f-4295-941a-47c39db0283c",
   "metadata": {},
   "outputs": [
    {
     "data": {
      "text/plain": [
       "'The interface in object-oriented languages like Python is a set of method signatures that the implementing class is expected to provide. Writing ordered code and achieving abstraction are both possible through interface implementation. Example: Python “object interfaces” are implemented in the module zope.'"
      ]
     },
     "execution_count": 50,
     "metadata": {},
     "output_type": "execute_result"
    }
   ],
   "source": [
    "'''The interface in object-oriented languages like Python is a set of method signatures that the implementing class is expected to provide. Writing ordered code and achieving abstraction are both possible through interface implementation. Example: Python “object interfaces” are implemented in the module zope.'''"
   ]
  },
  {
   "cell_type": "code",
   "execution_count": 51,
   "id": "5338b956-3dcd-4ee5-b7b7-91cbfc11412b",
   "metadata": {},
   "outputs": [],
   "source": [
    "#8. Create a Python class hierarchy for animals and implement abstraction by defining common methods (e.g., `eat()`, `sleep()`) in an abstract base class."
   ]
  },
  {
   "cell_type": "code",
   "execution_count": 58,
   "id": "5c8ce031-1d97-4480-a0c4-4c7ae79e5639",
   "metadata": {},
   "outputs": [],
   "source": [
    "from abc import ABC, abstractmethod\n",
    "class animal:\n",
    "    \n",
    "    \n",
    "    @abstractmethod\n",
    "    def eat(self):\n",
    "        return \"eat\"\n",
    "     \n",
    "    @abstractmethod\n",
    "    def sleep(self):\n",
    "        pass\n",
    "     \n",
    "    "
   ]
  },
  {
   "cell_type": "code",
   "execution_count": 59,
   "id": "d381ff2e-b4bd-4bf6-bee0-c263328504b4",
   "metadata": {},
   "outputs": [],
   "source": [
    "a = animal"
   ]
  },
  {
   "cell_type": "code",
   "execution_count": 60,
   "id": "d5f1d031-1657-4c1c-a7fe-2589082ebe3b",
   "metadata": {},
   "outputs": [
    {
     "data": {
      "text/plain": [
       "'eat'"
      ]
     },
     "execution_count": 60,
     "metadata": {},
     "output_type": "execute_result"
    }
   ],
   "source": [
    "a.eat(1)"
   ]
  },
  {
   "cell_type": "code",
   "execution_count": 62,
   "id": "a72ea0e3-f6d7-4d3d-84b4-cc57e62e70ed",
   "metadata": {},
   "outputs": [],
   "source": [
    "#9. Explain the significance of encapsulation in achieving abstraction. Provide examples."
   ]
  },
  {
   "cell_type": "code",
   "execution_count": 63,
   "id": "dee507d9-66e9-4ff8-9c8a-b92ead82eeb2",
   "metadata": {},
   "outputs": [
    {
     "data": {
      "text/plain": [
       "'Encapsulation allows abstraction. Encapsulation is the process of hiding the implementation details of an object from the outside world, and only exposing a public interface for interacting with the object. An example of encapsulation in the real world is a car engine'"
      ]
     },
     "execution_count": 63,
     "metadata": {},
     "output_type": "execute_result"
    }
   ],
   "source": [
    "'''Encapsulation allows abstraction. Encapsulation is the process of hiding the implementation details of an object from the outside world, and only exposing a public interface for interacting with the object. An example of encapsulation in the real world is a car engine'''"
   ]
  },
  {
   "cell_type": "code",
   "execution_count": 64,
   "id": "3cb26436-a2aa-48d1-a95e-592e0de774e1",
   "metadata": {},
   "outputs": [],
   "source": [
    "#10. What is the purpose of abstract methods, and how do they enforce abstraction in Python classes?"
   ]
  },
  {
   "cell_type": "code",
   "execution_count": 65,
   "id": "c4e399a8-33d0-4245-8105-c5b037dc2b96",
   "metadata": {},
   "outputs": [
    {
     "data": {
      "text/plain": [
       "'Abstract classes and methods provide a way to define a blueprint or template for a class without providing a complete implementation. '"
      ]
     },
     "execution_count": 65,
     "metadata": {},
     "output_type": "execute_result"
    }
   ],
   "source": [
    "'''Abstract classes and methods provide a way to define a blueprint or template for a class without providing a complete implementation. '''"
   ]
  },
  {
   "cell_type": "code",
   "execution_count": 66,
   "id": "156b4fdb-1e5c-4dfd-ad55-aaf7d823c94b",
   "metadata": {},
   "outputs": [],
   "source": [
    "#11. Create a Python class for a vehicle system and demonstrate abstraction by defining common methods"
   ]
  },
  {
   "cell_type": "code",
   "execution_count": 67,
   "id": "0a7e8afc-188b-4055-9905-800bed2479a6",
   "metadata": {},
   "outputs": [],
   "source": [
    "from abc import ABC, abstractmethod\n",
    "class vehicle:\n",
    "    \n",
    "    \n",
    "    @abstractmethod\n",
    "    def start(self):\n",
    "        return \"in 3 sec\"\n",
    "     \n",
    "    @abstractmethod\n",
    "    def stop(self):\n",
    "        return \"in 5sec\"\n",
    "     "
   ]
  },
  {
   "cell_type": "code",
   "execution_count": 69,
   "id": "2d3d16c9-2f58-4b5a-92f3-265195646895",
   "metadata": {},
   "outputs": [],
   "source": [
    "a = vehicle()"
   ]
  },
  {
   "cell_type": "code",
   "execution_count": 70,
   "id": "80e776a3-64a9-4e1a-8305-90c218ecf760",
   "metadata": {},
   "outputs": [
    {
     "data": {
      "text/plain": [
       "'in 3 sec'"
      ]
     },
     "execution_count": 70,
     "metadata": {},
     "output_type": "execute_result"
    }
   ],
   "source": [
    "a.start()"
   ]
  },
  {
   "cell_type": "code",
   "execution_count": 71,
   "id": "81885294-f76e-43f5-9004-16a6c118c5c7",
   "metadata": {},
   "outputs": [],
   "source": [
    "#12. Describe the use of abstract properties in Python and how they can be employed in abstract classes."
   ]
  },
  {
   "cell_type": "code",
   "execution_count": 72,
   "id": "5f8ae973-7d0a-4714-86b5-34b6322c5306",
   "metadata": {},
   "outputs": [
    {
     "data": {
      "text/plain": [
       "'Properties are Pythonic ways of using getters and setters. The abc module has a @abstractproperty decorator to use abstract properties. Just like abstract methods, we need to define abstract properties in implementation classes. '"
      ]
     },
     "execution_count": 72,
     "metadata": {},
     "output_type": "execute_result"
    }
   ],
   "source": [
    "'''Properties are Pythonic ways of using getters and setters. The abc module has a @abstractproperty decorator to use abstract properties. Just like abstract methods, we need to define abstract properties in implementation classes. '''"
   ]
  },
  {
   "cell_type": "code",
   "execution_count": 89,
   "id": "d0a6896d-9f03-4b1b-af0d-93854f6a22ba",
   "metadata": {},
   "outputs": [],
   "source": [
    "#13. Create a Python class hierarchy for employees in a company (e.g., manager, developer, designer) and implement abstraction by defining a common `get_salary()` method."
   ]
  },
  {
   "cell_type": "code",
   "execution_count": 77,
   "id": "be171a31-20d6-4ef5-aff1-caa9d5dd1b8d",
   "metadata": {},
   "outputs": [],
   "source": [
    "from abc import ABC , abstractmethod\n",
    "class employees(ABC):\n",
    "    \n",
    "    @abstractmethod\n",
    "    def manager(self):\n",
    "        pass\n",
    "    @abstractmethod\n",
    "    def developer(self):\n",
    "        pass\n",
    "    @abstractmethod\n",
    "    def designer(self):\n",
    "        pass\n",
    "    "
   ]
  },
  {
   "cell_type": "code",
   "execution_count": 78,
   "id": "3db4d91b-2295-4cf7-9bd0-751bf05e23c1",
   "metadata": {},
   "outputs": [],
   "source": [
    "class get_salary(employees):\n",
    "    def manager(self):\n",
    "        print(\"78687\")\n",
    "    \n",
    "    def developer(self):\n",
    "        return \"6587\"\n",
    "    \n",
    "    def designer(self):\n",
    "        return \"58\"\n",
    "    \n",
    "    \n",
    "    \n",
    "    "
   ]
  },
  {
   "cell_type": "code",
   "execution_count": 81,
   "id": "a1054082-77eb-4ec4-8c7d-8a8f222edd8e",
   "metadata": {},
   "outputs": [],
   "source": [
    "db1= get_salary()"
   ]
  },
  {
   "cell_type": "code",
   "execution_count": 83,
   "id": "025a5190-0774-45c3-b0e4-d2dca44e0fd9",
   "metadata": {},
   "outputs": [
    {
     "data": {
      "text/plain": [
       "'6587'"
      ]
     },
     "execution_count": 83,
     "metadata": {},
     "output_type": "execute_result"
    }
   ],
   "source": [
    "db1.developer()"
   ]
  },
  {
   "cell_type": "code",
   "execution_count": 84,
   "id": "ad17d81a-f4fc-4b44-ac53-e2a40acdf59c",
   "metadata": {},
   "outputs": [],
   "source": [
    "#14. Discuss the differences between abstract classes and concrete classes in Python, including theirinstantiation."
   ]
  },
  {
   "cell_type": "code",
   "execution_count": 85,
   "id": "8039f35c-df0d-4549-92c4-b7b3b37ad62b",
   "metadata": {},
   "outputs": [
    {
     "data": {
      "text/plain": [
       "'Concrete classes contain only concrete (normal)methods whereas abstract classes may contain both concrete methods and abstract methods'"
      ]
     },
     "execution_count": 85,
     "metadata": {},
     "output_type": "execute_result"
    }
   ],
   "source": [
    "'''Concrete classes contain only concrete (normal)methods whereas abstract classes may contain both concrete methods and abstract methods'''"
   ]
  },
  {
   "cell_type": "code",
   "execution_count": 86,
   "id": "79120850-208f-43b0-a7a9-52c1fe665e01",
   "metadata": {},
   "outputs": [],
   "source": [
    "#15. Explain the concept of abstract data types (ADTs) and their role in achieving abstraction in Python."
   ]
  },
  {
   "cell_type": "code",
   "execution_count": 87,
   "id": "19299c94-64a6-40cf-a4d7-9bbc39eb1292",
   "metadata": {},
   "outputs": [
    {
     "data": {
      "text/plain": [
       "'Abstract data types (ADTs) are a way of encapsulating data and operations on that data into a single unit'"
      ]
     },
     "execution_count": 87,
     "metadata": {},
     "output_type": "execute_result"
    }
   ],
   "source": [
    "'''Abstract data types (ADTs) are a way of encapsulating data and operations on that data into a single unit'''"
   ]
  },
  {
   "cell_type": "code",
   "execution_count": 90,
   "id": "4908a5ce-409a-4dd6-908c-00758f14230f",
   "metadata": {},
   "outputs": [],
   "source": [
    "#16. Create a Python class for a computer system, demonstrating abstraction by defining common methods\n",
    "#(e.g., `power_on()`, `shutdown()`) in an abstract base class."
   ]
  },
  {
   "cell_type": "code",
   "execution_count": 91,
   "id": "57c82408-ba3c-4978-8d73-eaea90b3a639",
   "metadata": {},
   "outputs": [],
   "source": [
    "\n",
    "from abc import ABC , abstractmethod\n",
    "class computer_system(ABC):\n",
    "    \n",
    "    @abstractmethod\n",
    "    def poweron(self):\n",
    "        pass\n",
    "    @abstractmethod\n",
    "    def shutdown(self):\n",
    "        pass\n",
    "    \n",
    "    \n",
    "class base(computer_system):\n",
    "    def poweron(self):\n",
    "        print(\"system is on\")\n",
    "    \n",
    "    def shutdown(self):\n",
    "        return \"system is shutting down\"\n",
    "    \n",
    "    \n",
    "    "
   ]
  },
  {
   "cell_type": "code",
   "execution_count": 92,
   "id": "29a92a13-c435-47c8-880f-00073cec24cf",
   "metadata": {},
   "outputs": [],
   "source": [
    "z = base()"
   ]
  },
  {
   "cell_type": "code",
   "execution_count": 93,
   "id": "ab1e8e0c-adad-46a3-8623-ae66ddc04063",
   "metadata": {},
   "outputs": [
    {
     "name": "stdout",
     "output_type": "stream",
     "text": [
      "system is on\n"
     ]
    }
   ],
   "source": [
    "z.poweron()"
   ]
  },
  {
   "cell_type": "code",
   "execution_count": 94,
   "id": "fba6f778-a6bf-4fd3-bec8-ab0c7b0228c9",
   "metadata": {},
   "outputs": [
    {
     "data": {
      "text/plain": [
       "'system is shutting down'"
      ]
     },
     "execution_count": 94,
     "metadata": {},
     "output_type": "execute_result"
    }
   ],
   "source": [
    "z.shutdown()"
   ]
  },
  {
   "cell_type": "code",
   "execution_count": 95,
   "id": "7e220940-96ec-4e92-8435-97be0710fda3",
   "metadata": {},
   "outputs": [],
   "source": [
    "#17. Discuss the benefits of using abstraction in large-scale software development projects."
   ]
  },
  {
   "cell_type": "code",
   "execution_count": 96,
   "id": "cce69281-1932-46a5-b523-f4b9b9648aa9",
   "metadata": {},
   "outputs": [
    {
     "data": {
      "text/plain": [
       "'Helps to increase security of an application or program as only important details are provided to the user.'"
      ]
     },
     "execution_count": 96,
     "metadata": {},
     "output_type": "execute_result"
    }
   ],
   "source": [
    "'''Helps to increase security of an application or program as only important details are provided to the user.'''"
   ]
  },
  {
   "cell_type": "code",
   "execution_count": 97,
   "id": "3d4a9bee-38db-4ff9-a344-e546b2a6c54c",
   "metadata": {},
   "outputs": [],
   "source": [
    "#18. Explain how abstraction enhances code reusability and modularity in Python programs."
   ]
  },
  {
   "cell_type": "code",
   "execution_count": 98,
   "id": "d8783a88-8a80-444c-89da-9bd300a0bf9d",
   "metadata": {},
   "outputs": [
    {
     "data": {
      "text/plain": [
       "'Modularity is having smaller (more or less independent) problems to tackle, one by one. Abstraction is being able to think about the modules themselves at a higher level, without worrying about the details of implementing each'"
      ]
     },
     "execution_count": 98,
     "metadata": {},
     "output_type": "execute_result"
    }
   ],
   "source": [
    "'''Modularity is having smaller (more or less independent) problems to tackle, one by one. Abstraction is being able to think about the modules themselves at a higher level, without worrying about the details of implementing each'''"
   ]
  },
  {
   "cell_type": "code",
   "execution_count": 99,
   "id": "9185c0d4-2e0a-473b-aca6-2d5876060965",
   "metadata": {},
   "outputs": [],
   "source": [
    "#19. Create a Python class for a library system, implementing abstraction by defining common methods (e.g., `add_book()`, `borrow_book()`) in an abstract base class."
   ]
  },
  {
   "cell_type": "code",
   "execution_count": 101,
   "id": "a7deddce-ad75-41a8-801f-5ba5c433a415",
   "metadata": {},
   "outputs": [],
   "source": [
    "from abc import ABC , abstractmethod\n",
    "class library_system(ABC):\n",
    "    \n",
    "    @abstractmethod\n",
    "    def addbook(self):\n",
    "        pass\n",
    "    @abstractmethod\n",
    "    def borrowbook(self):\n",
    "        pass\n",
    "    \n",
    "    \n",
    "class base(library_system):\n",
    "    def addbook(self):\n",
    "        print(\"added book successfully\")\n",
    "    \n",
    "    def borrowbook(self):\n",
    "        return \"borrow bookm successfully\"\n",
    "    "
   ]
  },
  {
   "cell_type": "code",
   "execution_count": 102,
   "id": "406984db-5b6d-4d41-8d87-99cfe3263143",
   "metadata": {},
   "outputs": [],
   "source": [
    "x = base()"
   ]
  },
  {
   "cell_type": "code",
   "execution_count": 103,
   "id": "604f7e21-499b-4236-bd71-747facc792c9",
   "metadata": {},
   "outputs": [
    {
     "name": "stdout",
     "output_type": "stream",
     "text": [
      "added book successfully\n"
     ]
    }
   ],
   "source": [
    "x.addbook()"
   ]
  },
  {
   "cell_type": "code",
   "execution_count": 104,
   "id": "c9f780fb-96f4-46d3-827c-aa626e2df1e5",
   "metadata": {},
   "outputs": [],
   "source": [
    "#20. Describe the concept of method abstraction in Python and how it relates to polymorphism."
   ]
  },
  {
   "cell_type": "code",
   "execution_count": 105,
   "id": "c1e8bb33-b333-42f0-ab05-50be4c62562b",
   "metadata": {},
   "outputs": [
    {
     "data": {
      "text/plain": [
       "'Abstraction refers to no specific detail of something, and Polymorphism refers to methods of different objects have the same, but do different task.'"
      ]
     },
     "execution_count": 105,
     "metadata": {},
     "output_type": "execute_result"
    }
   ],
   "source": [
    "\n",
    "'''Abstraction refers to no specific detail of something, and Polymorphism refers to methods of different objects have the same, but do different task.'''"
   ]
  },
  {
   "cell_type": "code",
   "execution_count": 106,
   "id": "ed155371-333e-4112-b15e-fdacabbee730",
   "metadata": {},
   "outputs": [],
   "source": [
    "                   #Constructor:"
   ]
  },
  {
   "cell_type": "code",
   "execution_count": 1,
   "id": "f50c8306-d5dd-457c-a6e4-6d3c1435238e",
   "metadata": {},
   "outputs": [],
   "source": [
    "#1. What is a constructor in Python? Explain its purpose and usage."
   ]
  },
  {
   "cell_type": "code",
   "execution_count": 2,
   "id": "0a981068-8e7e-452d-92c4-037cd39d21e6",
   "metadata": {},
   "outputs": [
    {
     "data": {
      "text/plain": [
       "'Constructors in Python is a special class method for creating and initializing an object instance at that class.'"
      ]
     },
     "execution_count": 2,
     "metadata": {},
     "output_type": "execute_result"
    }
   ],
   "source": [
    "'''Constructors in Python is a special class method for creating and initializing an object instance at that class.'''"
   ]
  },
  {
   "cell_type": "code",
   "execution_count": 3,
   "id": "8f9329c4-d4ab-4219-9c03-8e6e1f85fd62",
   "metadata": {},
   "outputs": [],
   "source": [
    "#Differentiate between a parameterless constructor and a parameterized constructor in Python."
   ]
  },
  {
   "cell_type": "code",
   "execution_count": 4,
   "id": "10a8af39-df9a-4c9c-95b6-2c674cb319c5",
   "metadata": {},
   "outputs": [
    {
     "data": {
      "text/plain": [
       "'parameterized Constructor: A parameterized constructor is a constructor that takes one or more arguments. It is used to create an object with custom values for its attributes. Non-Parameterized Constructor: A non-parameterized constructor is a constructor that does not take any arguments'"
      ]
     },
     "execution_count": 4,
     "metadata": {},
     "output_type": "execute_result"
    }
   ],
   "source": [
    "'''parameterized Constructor: A parameterized constructor is a constructor that takes one or more arguments. It is used to create an object with custom values for its attributes. Non-Parameterized Constructor: A non-parameterized constructor is a constructor that does not take any arguments'''"
   ]
  },
  {
   "cell_type": "code",
   "execution_count": 5,
   "id": "874579ef-1582-4acb-ac59-08a153d1a638",
   "metadata": {},
   "outputs": [],
   "source": [
    "#3. How do you define a constructor in a Python class? Provide an example."
   ]
  },
  {
   "cell_type": "code",
   "execution_count": 6,
   "id": "72d010fc-81be-42d5-aff0-34af2e61a21f",
   "metadata": {},
   "outputs": [
    {
     "data": {
      "text/plain": [
       "'The purpose of a python constructor is to assign values to the data members within the class when an object is initialized. The name of the constructor method is always __init__. In this example, the __init__'"
      ]
     },
     "execution_count": 6,
     "metadata": {},
     "output_type": "execute_result"
    }
   ],
   "source": [
    "'''The purpose of a python constructor is to assign values to the data members within the class when an object is initialized. The name of the constructor method is always __init__. In this example, the __init__'''"
   ]
  },
  {
   "cell_type": "code",
   "execution_count": 7,
   "id": "46a81182-ca8f-4543-9436-e4097fe21d54",
   "metadata": {},
   "outputs": [],
   "source": [
    "#4. Explain the `__init__` method in Python and its role in constructors."
   ]
  },
  {
   "cell_type": "code",
   "execution_count": 8,
   "id": "e1108e48-0347-4096-9e50-1e09b0c6696f",
   "metadata": {},
   "outputs": [
    {
     "data": {
      "text/plain": [
       "'to assigning the value'"
      ]
     },
     "execution_count": 8,
     "metadata": {},
     "output_type": "execute_result"
    }
   ],
   "source": [
    "'''to assigning the value'''"
   ]
  },
  {
   "cell_type": "code",
   "execution_count": 9,
   "id": "796dc84f-33eb-4c7c-bee2-95dc163c8329",
   "metadata": {},
   "outputs": [],
   "source": [
    "#5. In a class named `Person`, create a constructor that initializes the `name` and `age` attributes. Provide anexample of creating an object of this class."
   ]
  },
  {
   "cell_type": "code",
   "execution_count": 23,
   "id": "99b89fee-38df-4f9b-af37-033bffb3bb40",
   "metadata": {},
   "outputs": [],
   "source": [
    "class person:\n",
    "    def _init__(self):\n",
    "        self.name = name\n",
    "        self.age = age\n",
    "        \n",
    "   "
   ]
  },
  {
   "cell_type": "code",
   "execution_count": 32,
   "id": "0825333d-cb6c-447f-9c3f-10a84ae940cb",
   "metadata": {},
   "outputs": [],
   "source": [
    "#6. How can you call a constructor explicitly in Python? Give an example."
   ]
  },
  {
   "cell_type": "code",
   "execution_count": 33,
   "id": "8c5f5543-3adb-464d-b234-6c75b79f0a78",
   "metadata": {},
   "outputs": [
    {
     "data": {
      "text/plain": [
       "'by __init__'"
      ]
     },
     "execution_count": 33,
     "metadata": {},
     "output_type": "execute_result"
    }
   ],
   "source": [
    "\"\"\"by __init__\"\"\""
   ]
  },
  {
   "cell_type": "code",
   "execution_count": 34,
   "id": "65f1a0c4-55c8-4a2a-a972-6050dce91e42",
   "metadata": {},
   "outputs": [],
   "source": [
    "#7. What is the significance of the `self` parameter in Python constructors? Explain with an example."
   ]
  },
  {
   "cell_type": "code",
   "execution_count": 35,
   "id": "2eea91a5-e25a-43b2-907e-244d2f47e0f2",
   "metadata": {},
   "outputs": [
    {
     "data": {
      "text/plain": [
       "'Python uses the self parameter to refer to instance attributes and methods of the class.'"
      ]
     },
     "execution_count": 35,
     "metadata": {},
     "output_type": "execute_result"
    }
   ],
   "source": [
    "'''Python uses the self parameter to refer to instance attributes and methods of the class.'''"
   ]
  },
  {
   "cell_type": "code",
   "execution_count": 36,
   "id": "16e9e3e5-9f0f-42b9-83e4-42ab115e481b",
   "metadata": {},
   "outputs": [],
   "source": [
    "#8. Discuss the concept of default constructors in Python. When are they used?"
   ]
  },
  {
   "cell_type": "code",
   "execution_count": 37,
   "id": "14aba686-f4ef-4e64-bc88-a0be302209d6",
   "metadata": {},
   "outputs": [
    {
     "data": {
      "text/plain": [
       "': A default constructor is a constructor that takes no arguments. It is used to create an object with default values for its attributes. Parameterized Constructor: A parameterized constructor is a constructor that takes one or more arguments'"
      ]
     },
     "execution_count": 37,
     "metadata": {},
     "output_type": "execute_result"
    }
   ],
   "source": [
    "''': A default constructor is a constructor that takes no arguments. It is used to create an object with default values for its attributes. Parameterized Constructor: A parameterized constructor is a constructor that takes one or more arguments'''"
   ]
  },
  {
   "cell_type": "code",
   "execution_count": 38,
   "id": "13bfea3e-d06e-49ca-aacf-dd43baf5494f",
   "metadata": {},
   "outputs": [],
   "source": [
    "#9. Create a Python class called `Rectangle` with a constructor that initializes the `width` and `height`attributes. Provide a method to calculate the area of the rectangle."
   ]
  },
  {
   "cell_type": "code",
   "execution_count": 47,
   "id": "7a82ec7b-728f-4a1a-b45a-2bdb9341b20d",
   "metadata": {},
   "outputs": [
    {
     "name": "stdout",
     "output_type": "stream",
     "text": [
      "120\n"
     ]
    }
   ],
   "source": [
    "class Rectangle():\n",
    "    def __init__(self, l, w):\n",
    "        self.length = l\n",
    "        self.width  = w\n",
    "\n",
    "    def rectangle_area(self):\n",
    "        return self.length*self.width\n",
    "\n",
    "newRectangle = Rectangle(12, 10)\n",
    "print(newRectangle.rectangle_area())"
   ]
  },
  {
   "cell_type": "code",
   "execution_count": 48,
   "id": "dc2ad3bc-edcc-4e8f-b6b7-4b207b1a5782",
   "metadata": {},
   "outputs": [],
   "source": [
    "#10. How can you have multiple constructors in a Python class? Explain with an example."
   ]
  },
  {
   "cell_type": "code",
   "execution_count": 49,
   "id": "04729441-8d37-4fe9-92d4-f96f542c02d2",
   "metadata": {},
   "outputs": [
    {
     "name": "stdout",
     "output_type": "stream",
     "text": [
      "120\n"
     ]
    }
   ],
   "source": [
    "class Rectangle():\n",
    "    def __init__(self, l, w):\n",
    "        self.length = l\n",
    "        self.width  = w\n",
    "\n",
    "    def rectangle_area(self):\n",
    "        return self.length*self.width\n",
    "\n",
    "newRectangle = Rectangle(12, 10)\n",
    "print(newRectangle.rectangle_area())"
   ]
  },
  {
   "cell_type": "code",
   "execution_count": 50,
   "id": "55e45d2c-f5de-4569-886a-ae807305e869",
   "metadata": {},
   "outputs": [],
   "source": [
    "#11. What is method overloading, and how is it related to constructors in Python?"
   ]
  },
  {
   "cell_type": "code",
   "execution_count": 51,
   "id": "7ef8e0fd-246e-4a6f-ad57-1bfe5cade80d",
   "metadata": {},
   "outputs": [
    {
     "data": {
      "text/plain": [
       "'f the constructor is written two times with different signatures, we call constructor overloading.'"
      ]
     },
     "execution_count": 51,
     "metadata": {},
     "output_type": "execute_result"
    }
   ],
   "source": [
    "'''f the constructor is written two times with different signatures, we call constructor overloading.'''"
   ]
  },
  {
   "cell_type": "code",
   "execution_count": 52,
   "id": "05afb1c1-c9ea-4505-9a0c-c8828ef62880",
   "metadata": {},
   "outputs": [],
   "source": [
    "#12. Explain the use of the `super()` function in Python constructors. Provide an example."
   ]
  },
  {
   "cell_type": "code",
   "execution_count": 53,
   "id": "5f2e98d7-093d-415f-bd5d-412968ebb648",
   "metadata": {},
   "outputs": [
    {
     "data": {
      "text/plain": [
       "'use to call attribute of different parent'"
      ]
     },
     "execution_count": 53,
     "metadata": {},
     "output_type": "execute_result"
    }
   ],
   "source": [
    "'''use to call attribute of different parent'''"
   ]
  },
  {
   "cell_type": "code",
   "execution_count": 54,
   "id": "1d04c7d9-cb08-46f9-925f-87d409d2cc12",
   "metadata": {},
   "outputs": [],
   "source": [
    "#13. Create a class called `Book` with a constructor that initializes the `title`, `author`, and `published_year`attributes. Provide a method to display book details."
   ]
  },
  {
   "cell_type": "code",
   "execution_count": 66,
   "id": "115f73c8-d320-4fe0-92bf-a0d8269d8a7d",
   "metadata": {},
   "outputs": [],
   "source": [
    "class book:\n",
    "    def __init__(self,name):\n",
    "        self.name =name\n",
    "        \n",
    "    def title(self):\n",
    "        \n",
    "        print(self.name)"
   ]
  },
  {
   "cell_type": "code",
   "execution_count": 67,
   "id": "dba125d2-d288-4475-b184-1d4462bd5e23",
   "metadata": {},
   "outputs": [],
   "source": [
    "obj = book(\"vish\")"
   ]
  },
  {
   "cell_type": "code",
   "execution_count": 68,
   "id": "30f2962f-faa6-424a-bd7e-50e2451ebc07",
   "metadata": {},
   "outputs": [
    {
     "name": "stdout",
     "output_type": "stream",
     "text": [
      "vish\n"
     ]
    }
   ],
   "source": [
    "obj.title()"
   ]
  },
  {
   "cell_type": "code",
   "execution_count": 69,
   "id": "d67bbace-7bd9-4a41-8a3c-9d57bafcbdf7",
   "metadata": {},
   "outputs": [],
   "source": [
    "#17. Create a Python class called `Student` with a constructor that takes a list of subjects as a parameter and\n",
    "#initializes the `subjects` attribute."
   ]
  },
  {
   "cell_type": "code",
   "execution_count": 90,
   "id": "472bf330-41d5-4641-b788-612877b99274",
   "metadata": {},
   "outputs": [],
   "source": [
    "class student:\n",
    "    def __init__(self,sub):\n",
    "        self.sub = ['dsa','data']\n",
    "        \n",
    "    def title(self):\n",
    "        \n",
    "        print(self.sub)"
   ]
  },
  {
   "cell_type": "code",
   "execution_count": 91,
   "id": "c0daaea5-209e-4cae-8a73-35bbb1157809",
   "metadata": {},
   "outputs": [],
   "source": [
    "obj = student('dfbcei')\n"
   ]
  },
  {
   "cell_type": "code",
   "execution_count": 92,
   "id": "2eef38ee-42d7-489e-bb10-3adda164dd4d",
   "metadata": {},
   "outputs": [
    {
     "name": "stdout",
     "output_type": "stream",
     "text": [
      "['dsa', 'data']\n"
     ]
    }
   ],
   "source": [
    "obj.title()"
   ]
  },
  {
   "cell_type": "code",
   "execution_count": null,
   "id": "ddb15d28-27ff-498f-b08b-a3d2081d2d29",
   "metadata": {},
   "outputs": [],
   "source": []
  },
  {
   "cell_type": "code",
   "execution_count": 93,
   "id": "5f3cea27-b9fb-4a8d-8025-e47b69b62a66",
   "metadata": {},
   "outputs": [],
   "source": [
    "                                    #Composition:"
   ]
  },
  {
   "cell_type": "code",
   "execution_count": 94,
   "id": "c4da49cd-95dd-4ecf-8fe6-453db05389be",
   "metadata": {},
   "outputs": [],
   "source": [
    "#1. Explain the concept of composition in Python and how it is used to build complex objects from simpler ones."
   ]
  },
  {
   "cell_type": "code",
   "execution_count": 1,
   "id": "a50f501a-377c-42b2-873d-ed1607844c0c",
   "metadata": {},
   "outputs": [
    {
     "data": {
      "text/plain": [
       "'it make code  complex by adding simple operation'"
      ]
     },
     "execution_count": 1,
     "metadata": {},
     "output_type": "execute_result"
    }
   ],
   "source": [
    "'''it make code  complex by adding simple operation'''"
   ]
  },
  {
   "cell_type": "code",
   "execution_count": 2,
   "id": "18bdff28-6408-4f11-9fb6-88b577bdd4bd",
   "metadata": {},
   "outputs": [],
   "source": [
    "#2. Describe the difference between composition and inheritance in object-oriented programming."
   ]
  },
  {
   "cell_type": "code",
   "execution_count": 3,
   "id": "a8f5c138-d453-4265-a419-c42aecb4e995",
   "metadata": {},
   "outputs": [
    {
     "data": {
      "text/plain": [
       "'In inheritance, the child class is dependent upon parent class. Whereas in composition, both child class and parent class are independent'"
      ]
     },
     "execution_count": 3,
     "metadata": {},
     "output_type": "execute_result"
    }
   ],
   "source": [
    "'''In inheritance, the child class is dependent upon parent class. Whereas in composition, both child class and parent class are independent'''"
   ]
  },
  {
   "cell_type": "code",
   "execution_count": 4,
   "id": "eac7577d-392a-4baf-a59d-0b51cd363b92",
   "metadata": {},
   "outputs": [],
   "source": [
    "#3. Create a Python class called `Author` with attributes for name and birthdate. Then, create a `Book` class\n",
    "#that contains an instance of `Author` as a composition. Provide an example of creating a `Book` object."
   ]
  },
  {
   "cell_type": "code",
   "execution_count": 28,
   "id": "8be115b7-7d02-4a20-9144-90d5194283ec",
   "metadata": {},
   "outputs": [
    {
     "data": {
      "text/plain": [
       "'name of student is vishal'"
      ]
     },
     "execution_count": 28,
     "metadata": {},
     "output_type": "execute_result"
    }
   ],
   "source": [
    "\n",
    "class author:\n",
    "    def name(self):\n",
    "        return 'name of student is vishal'\n",
    "    \n",
    "    def birthdate(self):\n",
    "        return \"birthdate is 1 ovt,2002\"\n",
    "    \n",
    "class book:\n",
    "    def __init__(self):\n",
    "        self.name = author()\n",
    "        self.birthdate = author()\n",
    "ds = book()\n",
    "\n",
    "ds.name.name()\n"
   ]
  },
  {
   "cell_type": "code",
   "execution_count": 26,
   "id": "8371eeef-513c-47d3-a528-2ca0718c23fb",
   "metadata": {},
   "outputs": [
    {
     "data": {
      "text/plain": [
       "'birthdate is 1 ovt,2002'"
      ]
     },
     "execution_count": 26,
     "metadata": {},
     "output_type": "execute_result"
    }
   ],
   "source": [
    "ds.birthdate.birthdate()"
   ]
  },
  {
   "cell_type": "code",
   "execution_count": 29,
   "id": "9efba5c3-e7f8-4140-a7c5-77209806f36a",
   "metadata": {},
   "outputs": [],
   "source": [
    "#5. How can you implement composition in Python classes? Provide examples of using composition to createcomplex objects."
   ]
  },
  {
   "cell_type": "code",
   "execution_count": 30,
   "id": "7c179a24-de41-479f-b2ac-4b72d97c32a4",
   "metadata": {},
   "outputs": [
    {
     "data": {
      "text/plain": [
       "'student_details'"
      ]
     },
     "execution_count": 30,
     "metadata": {},
     "output_type": "execute_result"
    }
   ],
   "source": [
    "\n",
    "class pwskills:\n",
    "    def student(self):\n",
    "        return \"student_details\"\n",
    "    \n",
    "class datascience:\n",
    "    def __init__(self):\n",
    "        self.student = pwskills()\n",
    "        \n",
    "ds = datascience()\n",
    "\n",
    "ds.student.student()"
   ]
  },
  {
   "cell_type": "code",
   "execution_count": 31,
   "id": "97e89a28-44fd-4b1a-bdaf-40f10d1b59bb",
   "metadata": {},
   "outputs": [],
   "source": [
    "#6. Create a Python class hierarchy for a music player system, using composition to represent playlists and\n",
    "#songs."
   ]
  },
  {
   "cell_type": "code",
   "execution_count": 32,
   "id": "dedfa1e4-be7c-4407-8789-b15e77ad330c",
   "metadata": {},
   "outputs": [],
   "source": [
    "class music:\n",
    "    def playlist1(self):\n",
    "        return \"song1\"\n",
    "    def playlist2(self):\n",
    "        return \"song2\"\n",
    "    \n",
    "class song:\n",
    "    def __init__(self):\n",
    "        self.playlist1 = music()\n",
    "        self.playlist2 = music()"
   ]
  },
  {
   "cell_type": "code",
   "execution_count": 33,
   "id": "fffcdd8e-f90b-4cd4-ba15-615b5246b303",
   "metadata": {},
   "outputs": [
    {
     "data": {
      "text/plain": [
       "'song1'"
      ]
     },
     "execution_count": 33,
     "metadata": {},
     "output_type": "execute_result"
    }
   ],
   "source": [
    "a = song()\n",
    "a.playlist1.playlist1()"
   ]
  },
  {
   "cell_type": "code",
   "execution_count": 34,
   "id": "0fe5d96d-8a50-4043-9326-221629f3a1e2",
   "metadata": {},
   "outputs": [],
   "source": [
    "#7. Explain the concept of \"has-a\" relationships in composition and how it helps design software systems."
   ]
  },
  {
   "cell_type": "code",
   "execution_count": 35,
   "id": "9eaaa955-f986-464e-9991-286c915462e4",
   "metadata": {},
   "outputs": [
    {
     "data": {
      "text/plain": [
       "'. It enables creating complex types by combining objects of other types'"
      ]
     },
     "execution_count": 35,
     "metadata": {},
     "output_type": "execute_result"
    }
   ],
   "source": [
    "'''. It enables creating complex types by combining objects of other types'''"
   ]
  },
  {
   "cell_type": "code",
   "execution_count": 36,
   "id": "11d7b4cc-2b7c-4bb3-a701-4392e7e7acb7",
   "metadata": {},
   "outputs": [],
   "source": [
    "#8. Create a Python class for a computer system, using composition to represent components like CPU, RAM,\n",
    "#and storage devices."
   ]
  },
  {
   "cell_type": "code",
   "execution_count": 37,
   "id": "862931fc-1ae5-496c-9da2-94bab2a074c9",
   "metadata": {},
   "outputs": [],
   "source": [
    "class python:\n",
    "    def cpu(self):\n",
    "        return \"cpu runs\"\n",
    "    def ram(self):\n",
    "        return \"8gb\"\n",
    "    def storage_device(self):\n",
    "        return \"stored in internal device\"\n",
    "    \n",
    "class system:\n",
    "    def __init__(self):\n",
    "        self.cpu = python()\n",
    "        self.ram = python()\n",
    "        self.storage_device = python()\n",
    "        \n",
    "        "
   ]
  },
  {
   "cell_type": "code",
   "execution_count": 38,
   "id": "0517560c-71fc-4ff9-9718-9febd4308313",
   "metadata": {},
   "outputs": [
    {
     "data": {
      "text/plain": [
       "'cpu runs'"
      ]
     },
     "execution_count": 38,
     "metadata": {},
     "output_type": "execute_result"
    }
   ],
   "source": [
    "a = system()\n",
    "a.cpu.cpu()"
   ]
  },
  {
   "cell_type": "code",
   "execution_count": 39,
   "id": "c17ce3e5-b72c-4407-8892-09bc1ba5969e",
   "metadata": {},
   "outputs": [],
   "source": [
    "#9. Describe the concept of \"delegation\" in composition and how it simplifies the design of complex systems."
   ]
  },
  {
   "cell_type": "code",
   "execution_count": 40,
   "id": "c3bc0ddc-0a98-4918-b193-1a65250223c8",
   "metadata": {},
   "outputs": [
    {
     "data": {
      "text/plain": [
       "'Composition is about the relationships between objects. Delegation is about passing work from one object to another. '"
      ]
     },
     "execution_count": 40,
     "metadata": {},
     "output_type": "execute_result"
    }
   ],
   "source": [
    "'''Composition is about the relationships between objects. Delegation is about passing work from one object to another. '''"
   ]
  },
  {
   "cell_type": "code",
   "execution_count": 41,
   "id": "2903bb2d-4905-4063-b4a0-161c28733195",
   "metadata": {},
   "outputs": [],
   "source": [
    "#10. Create a Python class for a car, using composition to represent components like the engine, wheels, and\n",
    "#transmission."
   ]
  },
  {
   "cell_type": "code",
   "execution_count": 42,
   "id": "ada051b1-5e0f-4b1b-a482-f627a124ff92",
   "metadata": {},
   "outputs": [],
   "source": [
    "class car:\n",
    "    def engine(self):\n",
    "        return \"runs\"\n",
    "    def wheel(self):\n",
    "        return \"white\"\n",
    "    def transmission(self):\n",
    "        return \"good\"\n",
    "    \n",
    "class system:\n",
    "    def __init__(self):\n",
    "        self.engine= car()\n",
    "        self.wheel = car()\n",
    "        self.transmission = car()\n",
    "        "
   ]
  },
  {
   "cell_type": "code",
   "execution_count": 43,
   "id": "baa02a81-e0c8-4932-be72-652c97aec5cd",
   "metadata": {},
   "outputs": [
    {
     "data": {
      "text/plain": [
       "'runs'"
      ]
     },
     "execution_count": 43,
     "metadata": {},
     "output_type": "execute_result"
    }
   ],
   "source": [
    "a = system()\n",
    "a.engine.engine()"
   ]
  },
  {
   "cell_type": "code",
   "execution_count": 44,
   "id": "933f61d3-8bd7-4b36-99ef-0bc1917d1379",
   "metadata": {},
   "outputs": [],
   "source": [
    "#14. Create a Python class hierarchy for a restaurant system, using composition to represent menus, dishes,\n",
    "#and ingredients."
   ]
  },
  {
   "cell_type": "code",
   "execution_count": null,
   "id": "c40fdb6e-b667-4da7-8952-c6441cdc8c5a",
   "metadata": {},
   "outputs": [],
   "source": [
    "class restaurent:\n",
    "    def menu(self):\n",
    "        return \" Dal makhani.  Vada pav. ...\n",
    "                Stuffed paratha. ...\n",
    "                 Dhokla. ...\n",
    "                 Barfi. ...\n",
    "                Pani puri.\"\n",
    "    def dishes(self):\n",
    "        return \"white\"\n",
    "    def ingrediant(self):\n",
    "        return \"good\"\n",
    "    \n",
    "class system:\n",
    "    def __init__(self):\n",
    "        self.engine= car()\n",
    "        self.wheel = car()\n",
    "        self.transmission = car()\n",
    "        "
   ]
  }
 ],
 "metadata": {
  "kernelspec": {
   "display_name": "Python 3 (ipykernel)",
   "language": "python",
   "name": "python3"
  },
  "language_info": {
   "codemirror_mode": {
    "name": "ipython",
    "version": 3
   },
   "file_extension": ".py",
   "mimetype": "text/x-python",
   "name": "python",
   "nbconvert_exporter": "python",
   "pygments_lexer": "ipython3",
   "version": "3.10.8"
  }
 },
 "nbformat": 4,
 "nbformat_minor": 5
}
